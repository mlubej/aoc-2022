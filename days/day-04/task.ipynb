{
 "cells": [
  {
   "cell_type": "code",
   "execution_count": 22,
   "metadata": {},
   "outputs": [],
   "source": [
    "import re\n",
    "\n",
    "import numpy as np\n",
    "from aocd import get_data, submit\n",
    "\n",
    "DAY = 4\n",
    "YEAR = 2022\n",
    "\n",
    "raw = get_data(day=DAY, year=YEAR)\n",
    "# print(raw)"
   ]
  },
  {
   "cell_type": "code",
   "execution_count": 23,
   "metadata": {},
   "outputs": [],
   "source": [
    "def parse_data(data):\n",
    "    data = data.split(\"\\n\")\n",
    "    data = [np.array(re.findall(\"\\d+\", d), dtype=int) for d in data]\n",
    "    data = [[set(range(x1, x2 + 1)), set(range(y1, y2 + 1))] for x1, x2, y1, y2 in data]\n",
    "    return data\n",
    "\n",
    "\n",
    "data = parse_data(raw)"
   ]
  },
  {
   "cell_type": "markdown",
   "metadata": {},
   "source": [
    "# Part 1"
   ]
  },
  {
   "cell_type": "code",
   "execution_count": 26,
   "metadata": {},
   "outputs": [
    {
     "data": {
      "text/plain": [
       "580"
      ]
     },
     "execution_count": 26,
     "metadata": {},
     "output_type": "execute_result"
    }
   ],
   "source": [
    "def subset(a, b):\n",
    "    if a <= b or b <= a:\n",
    "        return True\n",
    "    return False\n",
    "\n",
    "\n",
    "result = np.count_nonzero([subset(*s) for s in data])\n",
    "result"
   ]
  },
  {
   "cell_type": "code",
   "execution_count": 52,
   "metadata": {},
   "outputs": [
    {
     "name": "stdout",
     "output_type": "stream",
     "text": [
      "That's the right answer!  You are one gold star closer to collecting enough star fruit. [Continue to Part Two]\n"
     ]
    },
    {
     "data": {
      "text/plain": [
       "<Response [200]>"
      ]
     },
     "execution_count": 52,
     "metadata": {},
     "output_type": "execute_result"
    }
   ],
   "source": [
    "# submit(result, part=\"a\", day=DAY, year=YEAR)"
   ]
  },
  {
   "cell_type": "markdown",
   "metadata": {},
   "source": [
    "# Part 2"
   ]
  },
  {
   "cell_type": "code",
   "execution_count": 27,
   "metadata": {},
   "outputs": [
    {
     "data": {
      "text/plain": [
       "895"
      ]
     },
     "execution_count": 27,
     "metadata": {},
     "output_type": "execute_result"
    }
   ],
   "source": [
    "result = np.count_nonzero([len(a & b) > 0 for a, b in data])\n",
    "result"
   ]
  },
  {
   "cell_type": "code",
   "execution_count": 58,
   "metadata": {},
   "outputs": [
    {
     "name": "stdout",
     "output_type": "stream",
     "text": [
      "That's the right answer!  You are one gold star closer to collecting enough star fruit.You have completed Day 4! You can [Shareon\n",
      "  Twitter\n",
      "Mastodon] this victory or [Return to Your Advent Calendar].\n"
     ]
    },
    {
     "data": {
      "text/plain": [
       "<Response [200]>"
      ]
     },
     "execution_count": 58,
     "metadata": {},
     "output_type": "execute_result"
    }
   ],
   "source": [
    "# submit(result, part=\"b\", day=DAY, year=YEAR)"
   ]
  }
 ],
 "metadata": {
  "kernelspec": {
   "display_name": "Python 3.10.4 64-bit ('aoc-2022')",
   "language": "python",
   "name": "python3"
  },
  "language_info": {
   "codemirror_mode": {
    "name": "ipython",
    "version": 3
   },
   "file_extension": ".py",
   "mimetype": "text/x-python",
   "name": "python",
   "nbconvert_exporter": "python",
   "pygments_lexer": "ipython3",
   "version": "3.10.4"
  },
  "orig_nbformat": 4,
  "vscode": {
   "interpreter": {
    "hash": "5624460fa9e1cd9da4e6994541d8ff42604db2bd2a1d59618c452d0f7bde50e7"
   }
  }
 },
 "nbformat": 4,
 "nbformat_minor": 2
}
