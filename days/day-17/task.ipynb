{
 "cells": [
  {
   "cell_type": "code",
   "execution_count": 18,
   "metadata": {},
   "outputs": [
    {
     "name": "stdout",
     "output_type": "stream",
     "text": [
      "The line_profiler extension is already loaded. To reload it, use:\n",
      "  %reload_ext line_profiler\n"
     ]
    }
   ],
   "source": [
    "import ast\n",
    "import copy\n",
    "import re\n",
    "\n",
    "import matplotlib.pyplot as plt\n",
    "import numpy as np\n",
    "import pandas as pd\n",
    "from aocd import get_data, submit\n",
    "\n",
    "%load_ext line_profiler\n",
    "\n",
    "DAY = 17\n",
    "YEAR = 2022"
   ]
  },
  {
   "cell_type": "code",
   "execution_count": 19,
   "metadata": {},
   "outputs": [
    {
     "name": "stdout",
     "output_type": "stream",
     "text": [
      ">>><<><>><<<>><>>><<<>>><<<><<<>><>><<>>\n"
     ]
    }
   ],
   "source": [
    "# use test data\n",
    "raw_test = \"\"\">>><<><>><<<>><>>><<<>>><<<><<<>><>><<>>\"\"\"\n",
    "\n",
    "# use real data\n",
    "raw = get_data(day=DAY, year=YEAR)\n",
    "\n",
    "print(raw_test)"
   ]
  },
  {
   "cell_type": "code",
   "execution_count": 20,
   "metadata": {},
   "outputs": [
    {
     "data": {
      "text/plain": [
       "array(['>', '>', '>', '<', '<', '>', '<', '>', '>', '<', '<', '<', '>',\n",
       "       '>', '<', '>', '>', '>', '<', '<', '<', '>', '>', '>', '<', '<',\n",
       "       '<', '>', '<', '<', '<', '>', '>', '<', '>', '>', '<', '<', '>',\n",
       "       '>'], dtype='<U1')"
      ]
     },
     "execution_count": 20,
     "metadata": {},
     "output_type": "execute_result"
    }
   ],
   "source": [
    "def parse_data(data):\n",
    "    data = list(data)\n",
    "    return np.array(data)\n",
    "\n",
    "\n",
    "dummy = parse_data(raw_test)\n",
    "real = parse_data(raw)\n",
    "\n",
    "dummy"
   ]
  },
  {
   "cell_type": "markdown",
   "metadata": {},
   "source": [
    "# Part 1"
   ]
  },
  {
   "cell_type": "code",
   "execution_count": 21,
   "metadata": {},
   "outputs": [],
   "source": [
    "def intersects(cave, rock):\n",
    "    global width\n",
    "    if not cave.isdisjoint(rock):\n",
    "        return True\n",
    "\n",
    "    for x, _ in rock:\n",
    "        if x < 0 or x >= 7:\n",
    "            return True\n",
    "\n",
    "    return False\n",
    "\n",
    "\n",
    "def push(cave, rock, jet):\n",
    "    if jet == \"<\":\n",
    "        new_rock = {(x - 1, y) for x, y in rock}\n",
    "        return new_rock if not intersects(cave, new_rock) else rock\n",
    "\n",
    "    new_rock = {(x + 1, y) for x, y in rock}\n",
    "    return new_rock if not intersects(cave, new_rock) else rock\n",
    "\n",
    "\n",
    "def init_rock(rock, start_y):\n",
    "    return {(x, y + start_y) for x, y in rock}\n",
    "\n",
    "\n",
    "def drop(cave, rock):\n",
    "    new_rock = {(x, y - 1) for x, y in rock}\n",
    "    if not intersects(cave, new_rock):\n",
    "        return new_rock, False\n",
    "\n",
    "    return rock, True\n",
    "\n",
    "\n",
    "def drop_rock(cave, rock, jets, jet_start_idx, highest_point):\n",
    "    start_y = highest_point + 4\n",
    "    jet_idx = jet_start_idx\n",
    "\n",
    "    rock = init_rock(rock, start_y)\n",
    "\n",
    "    while True:\n",
    "        rock = push(cave, rock, jets[jet_idx % len(jets)])\n",
    "        rock, has_stopped = drop(cave, rock)\n",
    "        jet_idx += 1\n",
    "\n",
    "        if has_stopped:\n",
    "            highest_point = max({y for _, y in rock} | {highest_point})\n",
    "            return cave | rock, rock, jet_idx, highest_point"
   ]
  },
  {
   "cell_type": "code",
   "execution_count": 22,
   "metadata": {},
   "outputs": [
    {
     "data": {
      "text/plain": [
       "3090"
      ]
     },
     "execution_count": 22,
     "metadata": {},
     "output_type": "execute_result"
    }
   ],
   "source": [
    "def run_simulation(jets, rocks_to_drop):\n",
    "    n_rocks = 0\n",
    "    jet_idx = 0\n",
    "    max_y = 0\n",
    "    width = 7\n",
    "    lj = len(jets)\n",
    "\n",
    "    bottom = [(x, 0) for x in range(0, width)]\n",
    "    cave = set(bottom.copy())\n",
    "    rocks = [\n",
    "        [(0, 0), (1, 0), (2, 0), (3, 0)],\n",
    "        [(1, 0), (0, 1), (1, 1), (2, 1), (1, 2)],\n",
    "        [(0, 0), (1, 0), (2, 0), (2, 1), (2, 2)],\n",
    "        [(0, 0), (0, 1), (0, 2), (0, 3)],\n",
    "        [(0, 0), (1, 0), (0, 1), (1, 1)],\n",
    "    ]\n",
    "    rocks = [{(x + 2, y) for x, y in r} for r in rocks]\n",
    "\n",
    "    while True:\n",
    "        rock = rocks[n_rocks % 5]\n",
    "        cave, rock, jet_idx, max_y = drop_rock(cave, rock, jets, jet_idx, max_y)\n",
    "        n_rocks += 1\n",
    "\n",
    "        if n_rocks == rocks_to_drop:\n",
    "            return max_y\n",
    "\n",
    "\n",
    "jets = real.copy()\n",
    "\n",
    "result = run_simulation(jets, 2022)\n",
    "result"
   ]
  },
  {
   "cell_type": "markdown",
   "metadata": {},
   "source": [
    "# Part 2"
   ]
  },
  {
   "cell_type": "code",
   "execution_count": 23,
   "metadata": {},
   "outputs": [
    {
     "data": {
      "text/plain": [
       "1530057803453"
      ]
     },
     "execution_count": 23,
     "metadata": {},
     "output_type": "execute_result"
    }
   ],
   "source": [
    "def run_simulation_v2(jets, goal, rocks_to_drop=None):\n",
    "    n_rocks = 0\n",
    "    jet_idx = 0\n",
    "    max_y = 0\n",
    "    width = 7\n",
    "\n",
    "    bottom = [(x, 0) for x in range(0, width)]\n",
    "    cave = set(bottom.copy())\n",
    "    rocks = [\n",
    "        [(0, 0), (1, 0), (2, 0), (3, 0)],\n",
    "        [(1, 0), (0, 1), (1, 1), (2, 1), (1, 2)],\n",
    "        [(0, 0), (1, 0), (2, 0), (2, 1), (2, 2)],\n",
    "        [(0, 0), (0, 1), (0, 2), (0, 3)],\n",
    "        [(0, 0), (1, 0), (0, 1), (1, 1)],\n",
    "    ]\n",
    "    rocks = [{(x + 2, y) for x, y in r} for r in rocks]\n",
    "\n",
    "    patterns = {}\n",
    "    values = []\n",
    "\n",
    "    while True:\n",
    "        rock = rocks[n_rocks % 5]\n",
    "        cave, rock, jet_idx, max_y = drop_rock(cave, rock, jets, jet_idx, max_y)\n",
    "        n_rocks += 1\n",
    "\n",
    "        # search for periods\n",
    "        for jdx in range(len(jets)):\n",
    "            for rdx in range(len(rocks)):\n",
    "                if jet_idx % len(jets) == jdx and n_rocks % len(rocks) == rdx:\n",
    "                    if (jdx, rdx) not in patterns:\n",
    "                        patterns[(jdx, rdx)] = (n_rocks, max_y)\n",
    "                    else:\n",
    "                        old_rocks, old_height = patterns[(jdx, rdx)]\n",
    "                        rdiff, hdiff = n_rocks - old_rocks, max_y - old_height\n",
    "                        result = int(\n",
    "                            ((goal - old_rocks) // rdiff) * hdiff\n",
    "                            + run_simulation(jets, old_rocks + (goal - old_rocks) % rdiff)\n",
    "                        )\n",
    "                        values.append(result)\n",
    "\n",
    "                        if len(values) > 10 and len(np.unique(values[-10:])) == 1:\n",
    "                            return result\n",
    "\n",
    "\n",
    "jets = real.copy()\n",
    "\n",
    "result = run_simulation_v2(jets, 1e12)\n",
    "result"
   ]
  },
  {
   "cell_type": "markdown",
   "metadata": {},
   "source": [
    " ### Improved"
   ]
  },
  {
   "cell_type": "code",
   "execution_count": 24,
   "metadata": {},
   "outputs": [
    {
     "data": {
      "text/plain": [
       "1530057803453"
      ]
     },
     "execution_count": 24,
     "metadata": {},
     "output_type": "execute_result"
    }
   ],
   "source": [
    "def run_simulation_v2(jets, goal):\n",
    "    n_rocks = 0\n",
    "    jet_idx = 0\n",
    "    max_y = 0\n",
    "    width = 7\n",
    "\n",
    "    bottom = [(x, 0) for x in range(0, width)]\n",
    "    cave = set(bottom.copy())\n",
    "    rocks = [\n",
    "        [(0, 0), (1, 0), (2, 0), (3, 0)],\n",
    "        [(1, 0), (0, 1), (1, 1), (2, 1), (1, 2)],\n",
    "        [(0, 0), (1, 0), (2, 0), (2, 1), (2, 2)],\n",
    "        [(0, 0), (0, 1), (0, 2), (0, 3)],\n",
    "        [(0, 0), (1, 0), (0, 1), (1, 1)],\n",
    "    ]\n",
    "    rocks = [{(x + 2, y) for x, y in r} for r in rocks]\n",
    "\n",
    "    scan = []\n",
    "    state_hash_dict = {}\n",
    "    while True:\n",
    "        rock = rocks[n_rocks % 5]\n",
    "        cave, rock, jet_idx, max_y = drop_rock(cave, rock, jets, jet_idx, max_y)\n",
    "        n_rocks += 1\n",
    "\n",
    "        if len(scan) < 100:\n",
    "            scan += [rock]\n",
    "        else:\n",
    "            scan = scan[1:] + [rock]\n",
    "            my = max((y for r in scan for _, y in r))\n",
    "            pattern = tuple(sorted([(x, y - my) for r in scan for (x, y) in r], key=lambda x: (x[0], x[1])))\n",
    "            period = (jet_idx % len(jets), n_rocks % len(rocks))\n",
    "            state_hash = hash(pattern + period)\n",
    "\n",
    "            if state_hash in state_hash_dict:\n",
    "                old_n_rocks, old_max_y = state_hash_dict[state_hash]\n",
    "                r_diff, y_diff = n_rocks - old_n_rocks, max_y - old_max_y\n",
    "                result = int(\n",
    "                    ((goal - old_n_rocks) // r_diff) * y_diff\n",
    "                    + run_simulation(jets, old_n_rocks + (goal - old_n_rocks) % r_diff)\n",
    "                )\n",
    "                return result\n",
    "\n",
    "            state_hash_dict[state_hash] = (n_rocks, max_y)\n",
    "\n",
    "\n",
    "jets = real.copy()\n",
    "\n",
    "result = run_simulation_v2(jets, 1e12)\n",
    "result"
   ]
  },
  {
   "cell_type": "code",
   "execution_count": 25,
   "metadata": {},
   "outputs": [],
   "source": [
    "# submit(result, part=\"b\", day=DAY, year=YEAR)"
   ]
  }
 ],
 "metadata": {
  "kernelspec": {
   "display_name": "Python 3.10.4 64-bit ('aoc-2022')",
   "language": "python",
   "name": "python3"
  },
  "language_info": {
   "codemirror_mode": {
    "name": "ipython",
    "version": 3
   },
   "file_extension": ".py",
   "mimetype": "text/x-python",
   "name": "python",
   "nbconvert_exporter": "python",
   "pygments_lexer": "ipython3",
   "version": "3.10.4"
  },
  "orig_nbformat": 4,
  "vscode": {
   "interpreter": {
    "hash": "5624460fa9e1cd9da4e6994541d8ff42604db2bd2a1d59618c452d0f7bde50e7"
   }
  }
 },
 "nbformat": 4,
 "nbformat_minor": 2
}
