{
 "cells": [
  {
   "cell_type": "code",
   "execution_count": 1,
   "metadata": {},
   "outputs": [],
   "source": [
    "import ast\n",
    "import copy\n",
    "import re\n",
    "\n",
    "import matplotlib.pyplot as plt\n",
    "import numpy as np\n",
    "import pandas as pd\n",
    "from aocd import get_data, submit\n",
    "\n",
    "DAY = 25\n",
    "YEAR = 2022"
   ]
  },
  {
   "cell_type": "code",
   "execution_count": 2,
   "metadata": {},
   "outputs": [
    {
     "name": "stdout",
     "output_type": "stream",
     "text": [
      "1=-0-2\n",
      "12111\n",
      "2=0=\n",
      "21\n",
      "2=01\n",
      "111\n",
      "20012\n",
      "112\n",
      "1=-1=\n",
      "1-12\n",
      "12\n",
      "1=\n",
      "122\n"
     ]
    }
   ],
   "source": [
    "# use test data\n",
    "raw_test = \"\"\"1=-0-2\n",
    "12111\n",
    "2=0=\n",
    "21\n",
    "2=01\n",
    "111\n",
    "20012\n",
    "112\n",
    "1=-1=\n",
    "1-12\n",
    "12\n",
    "1=\n",
    "122\"\"\"\n",
    "\n",
    "# use real data\n",
    "raw = get_data(day=DAY, year=YEAR)\n",
    "\n",
    "print(raw_test)"
   ]
  },
  {
   "cell_type": "code",
   "execution_count": 3,
   "metadata": {},
   "outputs": [
    {
     "data": {
      "text/plain": [
       "['1=-0-2',\n",
       " '12111',\n",
       " '2=0=',\n",
       " '21',\n",
       " '2=01',\n",
       " '111',\n",
       " '20012',\n",
       " '112',\n",
       " '1=-1=',\n",
       " '1-12',\n",
       " '12',\n",
       " '1=',\n",
       " '122']"
      ]
     },
     "execution_count": 3,
     "metadata": {},
     "output_type": "execute_result"
    }
   ],
   "source": [
    "def parse_data(data):\n",
    "    data = data.split(\"\\n\")\n",
    "    # data = [d.split(\" \") for d in data]\n",
    "    # data = [d.split('\\n') for d in data.split('\\n\\n')]\n",
    "    # data = [np.array(d.split('\\n'), dtype=int) for d in data.split('\\n\\n')]\n",
    "\n",
    "    return data\n",
    "\n",
    "\n",
    "dummy = parse_data(raw_test)\n",
    "real = parse_data(raw)\n",
    "\n",
    "dummy"
   ]
  },
  {
   "cell_type": "markdown",
   "metadata": {},
   "source": [
    "# Part 1"
   ]
  },
  {
   "cell_type": "code",
   "execution_count": 4,
   "metadata": {},
   "outputs": [
    {
     "data": {
      "text/plain": [
       "'20=02=120-=-2110-0=1'"
      ]
     },
     "execution_count": 4,
     "metadata": {},
     "output_type": "execute_result"
    }
   ],
   "source": [
    "converter = {\"2\": 2, \"1\": 1, \"0\": 0, \"-\": -1, \"=\": -2}\n",
    "\n",
    "inverter = {v: k for k, v in converter.items()}\n",
    "\n",
    "\n",
    "def snafu2dec(num):\n",
    "    dec = 0\n",
    "    for pw, el in enumerate(num[::-1]):\n",
    "        el = converter[el]\n",
    "        dec += el * 5**pw\n",
    "\n",
    "    return dec\n",
    "\n",
    "\n",
    "# https://www.codespeedy.com/inter-convert-decimal-and-any-base-using-python/\n",
    "def dec2base(num, base):  # Maximum base - 36\n",
    "    base_num = \"\"\n",
    "    while num > 0:\n",
    "        dig = int(num % base)\n",
    "        if dig < 10:\n",
    "            base_num += str(dig)\n",
    "        else:\n",
    "            base_num += chr(ord(\"A\") + dig - 10)  # Using uppercase letters\n",
    "        num //= base\n",
    "    base_num = base_num[::-1]  # To reverse the string\n",
    "    return base_num\n",
    "\n",
    "\n",
    "def dec2snafu(num):\n",
    "    temp = dec2base(int(num), 5)\n",
    "    new = []\n",
    "    carry_the_one = False\n",
    "    for t in temp[::-1]:\n",
    "        t = int(t)\n",
    "        if carry_the_one:\n",
    "            t += 1\n",
    "            carry_the_one = False\n",
    "        if t <= 2:\n",
    "            new.append(inverter[t])\n",
    "        else:\n",
    "            new.append(inverter[t - 5])\n",
    "            carry_the_one = True\n",
    "\n",
    "    if carry_the_one:\n",
    "        new.append(\"1\")\n",
    "\n",
    "    return \"\".join(new[::-1])\n",
    "\n",
    "\n",
    "data = real.copy()\n",
    "\n",
    "dec_sum = 0\n",
    "for num in data:\n",
    "    dec_sum += snafu2dec(num)\n",
    "\n",
    "result = dec2snafu(dec_sum)\n",
    "result"
   ]
  },
  {
   "cell_type": "code",
   "execution_count": 6,
   "metadata": {},
   "outputs": [],
   "source": [
    "# submit(result, part=\"a\", day=DAY, year=YEAR)"
   ]
  }
 ],
 "metadata": {
  "kernelspec": {
   "display_name": "Python 3.10.4 64-bit ('aoc-2022')",
   "language": "python",
   "name": "python3"
  },
  "language_info": {
   "codemirror_mode": {
    "name": "ipython",
    "version": 3
   },
   "file_extension": ".py",
   "mimetype": "text/x-python",
   "name": "python",
   "nbconvert_exporter": "python",
   "pygments_lexer": "ipython3",
   "version": "3.10.4"
  },
  "orig_nbformat": 4,
  "vscode": {
   "interpreter": {
    "hash": "5624460fa9e1cd9da4e6994541d8ff42604db2bd2a1d59618c452d0f7bde50e7"
   }
  }
 },
 "nbformat": 4,
 "nbformat_minor": 2
}
