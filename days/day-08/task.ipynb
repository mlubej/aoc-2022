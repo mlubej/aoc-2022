{
 "cells": [
  {
   "cell_type": "code",
   "execution_count": 1,
   "metadata": {},
   "outputs": [],
   "source": [
    "from itertools import product\n",
    "\n",
    "import numpy as np\n",
    "from aocd import get_data, submit\n",
    "\n",
    "DAY = 8\n",
    "YEAR = 2022"
   ]
  },
  {
   "cell_type": "code",
   "execution_count": 48,
   "metadata": {},
   "outputs": [],
   "source": [
    "# use real data\n",
    "raw = get_data(day=DAY, year=YEAR)\n",
    "\n",
    "# print(raw)"
   ]
  },
  {
   "cell_type": "code",
   "execution_count": 49,
   "metadata": {},
   "outputs": [],
   "source": [
    "def parse_data(data):\n",
    "    data = data.split(\"\\n\")\n",
    "    data = np.array([list(d) for d in data], dtype=int)\n",
    "    return data\n",
    "\n",
    "\n",
    "data = parse_data(raw)"
   ]
  },
  {
   "cell_type": "markdown",
   "metadata": {},
   "source": [
    "# Part 1"
   ]
  },
  {
   "cell_type": "markdown",
   "metadata": {},
   "source": [
    "### long and stupid"
   ]
  },
  {
   "cell_type": "code",
   "execution_count": 4,
   "metadata": {},
   "outputs": [
    {
     "data": {
      "text/plain": [
       "1835"
      ]
     },
     "execution_count": 4,
     "metadata": {},
     "output_type": "execute_result"
    }
   ],
   "source": [
    "mask = np.zeros_like(data)\n",
    "mask[0], mask[-1], mask[:, 0], mask[:, -1] = True, True, True, True\n",
    "\n",
    "\n",
    "def tree_mask(data, mask, flip=False):\n",
    "    if flip:\n",
    "        mask = np.transpose(mask)\n",
    "        data = np.transpose(data)\n",
    "\n",
    "    n, m = data.shape\n",
    "    for idx in range(1, n - 1):\n",
    "        line = data[idx]\n",
    "        mh = line[0]\n",
    "        for jdx, el in enumerate(line[1:]):\n",
    "            if el > mh:\n",
    "                mask[idx][jdx + 1] |= True\n",
    "                mh = el\n",
    "        line = line[::-1]\n",
    "        mh = line[0]\n",
    "        for jdx, el in enumerate(line[1:]):\n",
    "            if el > mh:\n",
    "                mask[idx][m - jdx - 2] |= True\n",
    "                mh = el\n",
    "\n",
    "    if flip:\n",
    "        mask = np.transpose(mask)\n",
    "\n",
    "    return mask\n",
    "\n",
    "\n",
    "mask = tree_mask(data, mask, False)\n",
    "mask = tree_mask(data, mask, True)\n",
    "\n",
    "result = np.count_nonzero(mask)\n",
    "result"
   ]
  },
  {
   "attachments": {},
   "cell_type": "markdown",
   "metadata": {},
   "source": [
    "## shorter, but non-intuitive"
   ]
  },
  {
   "cell_type": "code",
   "execution_count": 5,
   "metadata": {},
   "outputs": [
    {
     "data": {
      "text/plain": [
       "1835"
      ]
     },
     "execution_count": 5,
     "metadata": {},
     "output_type": "execute_result"
    }
   ],
   "source": [
    "mask = np.zeros_like(data)\n",
    "mask[0], mask[-1], mask[:, 0], mask[:, -1] = True, True, True, True\n",
    "\n",
    "# find strictly increasing values in each direction\n",
    "mask |= np.diff(np.maximum.accumulate(data, axis=-1), axis=-1, prepend=1) > 0\n",
    "mask |= (np.diff(np.maximum.accumulate(data[:, ::-1], axis=-1), axis=-1, prepend=1) > 0)[:, ::-1]\n",
    "mask |= np.diff(np.maximum.accumulate(data, axis=0), axis=0, prepend=1) > 0\n",
    "mask |= (np.diff(np.maximum.accumulate(data[::-1], axis=0), axis=0, prepend=1) > 0)[::-1]\n",
    "\n",
    "result = np.count_nonzero(mask)\n",
    "result"
   ]
  },
  {
   "cell_type": "markdown",
   "metadata": {},
   "source": [
    "### simplest"
   ]
  },
  {
   "cell_type": "code",
   "execution_count": 24,
   "metadata": {},
   "outputs": [
    {
     "data": {
      "text/plain": [
       "1835"
      ]
     },
     "execution_count": 24,
     "metadata": {},
     "output_type": "execute_result"
    }
   ],
   "source": [
    "mask = np.zeros_like(data)\n",
    "n, m = data.shape\n",
    "\n",
    "for idx in range(n):\n",
    "    row = data[idx]\n",
    "    for jdx in range(m):\n",
    "        col = data[:, jdx]\n",
    "\n",
    "        if jdx == 0 or jdx == m - 1 or idx == 0 or idx == n - 1:\n",
    "            mask[idx, jdx] = True\n",
    "            continue\n",
    "\n",
    "        el = data[idx, jdx]\n",
    "        if (\n",
    "            el > np.max(row[:jdx])\n",
    "            or el > np.max(row[jdx + 1 :])\n",
    "            or el > np.max(col[:idx])\n",
    "            or el > np.max(col[idx + 1 :])\n",
    "        ):\n",
    "            mask[idx, jdx] |= True\n",
    "\n",
    "result = np.count_nonzero(mask)\n",
    "result"
   ]
  },
  {
   "cell_type": "code",
   "execution_count": 18,
   "metadata": {},
   "outputs": [],
   "source": [
    "# submit(result, part=\"a\", day=DAY, year=YEAR)"
   ]
  },
  {
   "cell_type": "markdown",
   "metadata": {},
   "source": [
    "# Part 2"
   ]
  },
  {
   "cell_type": "markdown",
   "metadata": {},
   "source": [
    "### non-elegant"
   ]
  },
  {
   "cell_type": "code",
   "execution_count": 67,
   "metadata": {},
   "outputs": [],
   "source": [
    "def extract_dist(data, scores, flip=False):\n",
    "    if flip:\n",
    "        scores = np.transpose(scores)\n",
    "        data = np.transpose(data)\n",
    "\n",
    "    n, m = data.shape\n",
    "    for idx in range(1, n - 1):\n",
    "        for jdx in range(1, m - 1):\n",
    "            row = data[idx]\n",
    "            mh = data[idx][jdx]\n",
    "            if scores[idx][jdx] is None:\n",
    "                scores[idx][jdx] = []\n",
    "\n",
    "            score = 0\n",
    "            for el in row[jdx + 1 :]:\n",
    "                score += 1\n",
    "                if mh <= el:\n",
    "                    break\n",
    "            scores[idx][jdx].append(score)\n",
    "\n",
    "            score = 0\n",
    "            for el in row[:jdx][::-1]:\n",
    "                score += 1\n",
    "                if mh <= el:\n",
    "                    break\n",
    "            scores[idx][jdx].append(score)\n",
    "\n",
    "    if flip:\n",
    "        scores = np.transpose(scores)\n",
    "\n",
    "    return scores\n",
    "\n",
    "\n",
    "def calc_score(data):\n",
    "    scores = np.zeros_like(data, dtype=int)\n",
    "    dist = scores = np.full(data.shape, None)\n",
    "    dist = extract_dist(data, dist)\n",
    "    dist = extract_dist(data, dist, True)\n",
    "\n",
    "    n, m = data.shape\n",
    "    for idx in range(n):\n",
    "        for jdx in range(m):\n",
    "            if dist[idx][jdx] is None:\n",
    "                scores[idx][jdx] = 0\n",
    "            else:\n",
    "                scores[idx, jdx] = np.prod(dist[idx, jdx])\n",
    "    return dist.astype(int)\n",
    "\n",
    "\n",
    "result = np.max(calc_score(data))"
   ]
  },
  {
   "attachments": {},
   "cell_type": "markdown",
   "metadata": {},
   "source": [
    "### shorter, bit complex"
   ]
  },
  {
   "cell_type": "code",
   "execution_count": 25,
   "metadata": {},
   "outputs": [
    {
     "data": {
      "text/plain": [
       "263670"
      ]
     },
     "execution_count": 25,
     "metadata": {},
     "output_type": "execute_result"
    }
   ],
   "source": [
    "def calc_score(x, i, j):\n",
    "    c = x[i, j]\n",
    "    n, m = x.shape\n",
    "\n",
    "    # directional slices\n",
    "    slice_list = [\n",
    "        [slice(i - 1, None, -1), j],  # up\n",
    "        [i, slice(j - 1, None, -1)],  # left\n",
    "        [i, slice(j + 1, None)],  # right\n",
    "        [slice(i + 1, None), j],  #  down\n",
    "    ]\n",
    "\n",
    "    # get data for all directions\n",
    "    dist_list = [x[slc[0], slc[1]] for slc in slice_list]\n",
    "\n",
    "    # cut short when first equal tree\n",
    "    dist_list = [l[: np.argwhere(l >= c)[0, 0] + 1 if np.any(l >= c) else None] for l in dist_list]\n",
    "\n",
    "    return np.prod([len(l) for l in dist_list])\n",
    "\n",
    "\n",
    "scores = []\n",
    "n, m = data.shape\n",
    "for idx in range(1, n - 1):\n",
    "    for jdx in range(1, m - 1):\n",
    "        scores.append(calc_score(data, idx, jdx))\n",
    "\n",
    "result = max(scores)\n",
    "result"
   ]
  },
  {
   "attachments": {},
   "cell_type": "markdown",
   "metadata": {},
   "source": [
    "### simplest"
   ]
  },
  {
   "cell_type": "code",
   "execution_count": 51,
   "metadata": {},
   "outputs": [
    {
     "data": {
      "text/plain": [
       "263670"
      ]
     },
     "execution_count": 51,
     "metadata": {},
     "output_type": "execute_result"
    }
   ],
   "source": [
    "scores = np.ones_like(data)\n",
    "n, m = data.shape\n",
    "\n",
    "for idx in range(n):\n",
    "    row = data[idx]\n",
    "    for jdx in range(m):\n",
    "        col = data[:, jdx]\n",
    "        el = data[idx, jdx]\n",
    "\n",
    "        score = []\n",
    "        trees_array = [col[:idx][::-1], col[idx + 1 :], row[:jdx][::-1], row[jdx + 1 :]]  # up, down, left, right\n",
    "\n",
    "        for trees in trees_array:\n",
    "            num = 0\n",
    "            for t in trees:\n",
    "                num += 1\n",
    "                if t >= el:\n",
    "                    break\n",
    "            score.append(num)\n",
    "\n",
    "        scores[idx, jdx] = np.prod(score)\n",
    "\n",
    "result = np.max(scores)\n",
    "result"
   ]
  },
  {
   "cell_type": "code",
   "execution_count": 52,
   "metadata": {},
   "outputs": [],
   "source": [
    "# submit(result, part=\"b\", day=DAY, year=YEAR)"
   ]
  }
 ],
 "metadata": {
  "kernelspec": {
   "display_name": "Python 3.10.4 64-bit ('aoc-2022')",
   "language": "python",
   "name": "python3"
  },
  "language_info": {
   "codemirror_mode": {
    "name": "ipython",
    "version": 3
   },
   "file_extension": ".py",
   "mimetype": "text/x-python",
   "name": "python",
   "nbconvert_exporter": "python",
   "pygments_lexer": "ipython3",
   "version": "3.10.4 (main, Nov 30 2022, 16:56:30) [Clang 14.0.0 (clang-1400.0.29.202)]"
  },
  "orig_nbformat": 4,
  "vscode": {
   "interpreter": {
    "hash": "5624460fa9e1cd9da4e6994541d8ff42604db2bd2a1d59618c452d0f7bde50e7"
   }
  }
 },
 "nbformat": 4,
 "nbformat_minor": 2
}
