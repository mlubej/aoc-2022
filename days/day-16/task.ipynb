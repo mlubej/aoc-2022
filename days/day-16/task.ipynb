{
 "cells": [
  {
   "cell_type": "code",
   "execution_count": 1,
   "metadata": {},
   "outputs": [],
   "source": [
    "import ast\n",
    "import copy\n",
    "import re\n",
    "\n",
    "import matplotlib.pyplot as plt\n",
    "import numpy as np\n",
    "import pandas as pd\n",
    "from aocd import get_data, submit\n",
    "\n",
    "DAY = 16\n",
    "YEAR = 2022"
   ]
  },
  {
   "cell_type": "code",
   "execution_count": 2,
   "metadata": {},
   "outputs": [
    {
     "name": "stdout",
     "output_type": "stream",
     "text": [
      "Valve AA has flow rate=0; tunnels lead to valves DD, II, BB\n",
      "Valve BB has flow rate=13; tunnels lead to valves CC, AA\n",
      "Valve CC has flow rate=2; tunnels lead to valves DD, BB\n",
      "Valve DD has flow rate=20; tunnels lead to valves CC, AA, EE\n",
      "Valve EE has flow rate=3; tunnels lead to valves FF, DD\n",
      "Valve FF has flow rate=0; tunnels lead to valves EE, GG\n",
      "Valve GG has flow rate=0; tunnels lead to valves FF, HH\n",
      "Valve HH has flow rate=22; tunnel leads to valve GG\n",
      "Valve II has flow rate=0; tunnels lead to valves AA, JJ\n",
      "Valve JJ has flow rate=21; tunnel leads to valve II\n"
     ]
    }
   ],
   "source": [
    "# use test data\n",
    "raw_test = \"\"\"Valve AA has flow rate=0; tunnels lead to valves DD, II, BB\n",
    "Valve BB has flow rate=13; tunnels lead to valves CC, AA\n",
    "Valve CC has flow rate=2; tunnels lead to valves DD, BB\n",
    "Valve DD has flow rate=20; tunnels lead to valves CC, AA, EE\n",
    "Valve EE has flow rate=3; tunnels lead to valves FF, DD\n",
    "Valve FF has flow rate=0; tunnels lead to valves EE, GG\n",
    "Valve GG has flow rate=0; tunnels lead to valves FF, HH\n",
    "Valve HH has flow rate=22; tunnel leads to valve GG\n",
    "Valve II has flow rate=0; tunnels lead to valves AA, JJ\n",
    "Valve JJ has flow rate=21; tunnel leads to valve II\"\"\"\n",
    "\n",
    "# use real data\n",
    "raw = get_data(day=DAY, year=YEAR)\n",
    "\n",
    "print(raw_test)"
   ]
  },
  {
   "cell_type": "code",
   "execution_count": 3,
   "metadata": {},
   "outputs": [
    {
     "data": {
      "text/plain": [
       "{'AA': {'dst': ['DD', 'II', 'BB'], 'pr': 0},\n",
       " 'BB': {'dst': ['CC', 'AA'], 'pr': 13},\n",
       " 'CC': {'dst': ['DD', 'BB'], 'pr': 2},\n",
       " 'DD': {'dst': ['CC', 'AA', 'EE'], 'pr': 20},\n",
       " 'EE': {'dst': ['FF', 'DD'], 'pr': 3},\n",
       " 'FF': {'dst': ['EE', 'GG'], 'pr': 0},\n",
       " 'GG': {'dst': ['FF', 'HH'], 'pr': 0},\n",
       " 'HH': {'dst': ['GG'], 'pr': 22},\n",
       " 'II': {'dst': ['AA', 'JJ'], 'pr': 0},\n",
       " 'JJ': {'dst': ['II'], 'pr': 21}}"
      ]
     },
     "execution_count": 3,
     "metadata": {},
     "output_type": "execute_result"
    }
   ],
   "source": [
    "def parse_data(data):\n",
    "    data = data.split(\"\\n\")\n",
    "    out = {}\n",
    "    for d in data:\n",
    "        src, *dst = re.findall(\"([A-Z]{2})\", d)\n",
    "        pr = re.search(\"([0-9]+)\", d).group(1)\n",
    "        out[src] = {\"dst\": dst, \"pr\": int(pr)}\n",
    "\n",
    "    return out\n",
    "\n",
    "\n",
    "dummy = parse_data(raw_test)\n",
    "real = parse_data(raw)\n",
    "\n",
    "dummy"
   ]
  },
  {
   "cell_type": "markdown",
   "metadata": {},
   "source": [
    "# Part 1"
   ]
  },
  {
   "cell_type": "code",
   "execution_count": 21,
   "metadata": {},
   "outputs": [],
   "source": [
    "# https://en.wikipedia.org/wiki/Dijkstra%27s_algorithm#Algorithm\n",
    "def find_optimal_path_djikstra(data, start, fill_value=99999):\n",
    "    current = start\n",
    "    unvisited = set(list(data.keys()))\n",
    "    cost_from_start = {node: fill_value for node in unvisited}\n",
    "    path_from_start = {node: [] for node in unvisited}\n",
    "    cost_from_start[current] = 0\n",
    "\n",
    "    while True:\n",
    "        neighbors = set(data[current][\"dst\"]) & unvisited\n",
    "\n",
    "        for nb in neighbors:\n",
    "            cost_from_start[nb] = cost_from_start[current] + 1\n",
    "            path_from_start[nb] = path_from_start[current] + [current]\n",
    "\n",
    "        unvisited -= {current}\n",
    "        init_cands = {node for node in unvisited if cost_from_start[node] == fill_value}\n",
    "        if len(unvisited) == len(init_cands):\n",
    "            break\n",
    "\n",
    "        current = sorted(unvisited - init_cands, key=lambda x: cost_from_start[x])[0]\n",
    "\n",
    "    return cost_from_start, path_from_start"
   ]
  },
  {
   "cell_type": "code",
   "execution_count": 43,
   "metadata": {},
   "outputs": [
    {
     "data": {
      "text/plain": [
       "2181"
      ]
     },
     "execution_count": 43,
     "metadata": {},
     "output_type": "execute_result"
    }
   ],
   "source": [
    "def find_paths(data, time_limit, path, pressure=0, unreleased=None, result=None):\n",
    "    global path_info\n",
    "\n",
    "    if unreleased is None:\n",
    "        unreleased = set([k for k, v in data.items() if v[\"pr\"] > 0])\n",
    "\n",
    "    if len(unreleased) == 0:\n",
    "        if result is None or pressure > result[1]:\n",
    "            result = (path, pressure)\n",
    "        return result\n",
    "\n",
    "    current = path[-1]\n",
    "    dist_to_next, path_to_next = path_info[current]\n",
    "\n",
    "    # stop early\n",
    "    unreleased_potential = sum([data[cand][\"pr\"] * time_limit for cand in unreleased])\n",
    "    if result is not None and pressure + unreleased_potential < result[1]:\n",
    "        return result\n",
    "\n",
    "    candidates = [(c, dist) for (c, dist) in dist_to_next.items() if c in unreleased]\n",
    "    candidates = sorted(candidates, key=lambda x: dist_to_next[x[0]])\n",
    "\n",
    "    for cand, dist in candidates:\n",
    "        ntime = time_limit - dist_to_next[cand] - 1\n",
    "\n",
    "        npath = path if ntime < 0 else path + path_to_next[cand][1:] + [cand]\n",
    "        np = pressure if ntime < 0 else pressure + ntime * data[cand][\"pr\"]\n",
    "        nr = unreleased if ntime < 0 else unreleased - {cand}\n",
    "\n",
    "        if ntime <= 0:\n",
    "            if result is None or np > result[1]:\n",
    "                result = (path, np)\n",
    "            continue\n",
    "\n",
    "        result = find_paths(data, ntime, npath, np, nr, result)\n",
    "\n",
    "    return result\n",
    "\n",
    "\n",
    "data = real.copy()\n",
    "\n",
    "path_info = {k: find_optimal_path_djikstra(data, k) for k in data.keys()}\n",
    "\n",
    "start = \"AA\"\n",
    "result = find_paths(data, 30, [\"AA\"])[-1]\n",
    "result"
   ]
  },
  {
   "cell_type": "code",
   "execution_count": 38,
   "metadata": {},
   "outputs": [],
   "source": [
    "# submit(result, part=\"a\", day=DAY, year=YEAR)"
   ]
  },
  {
   "cell_type": "markdown",
   "metadata": {},
   "source": [
    "# Part 2"
   ]
  },
  {
   "cell_type": "code",
   "execution_count": 47,
   "metadata": {},
   "outputs": [
    {
     "name": "stdout",
     "output_type": "stream",
     "text": [
      "1985\n",
      "2039\n",
      "2194\n",
      "2218\n",
      "2237\n",
      "2295\n",
      "2371\n",
      "2383\n",
      "2399\n",
      "2445\n",
      "2498\n",
      "2516\n",
      "2582\n",
      "2646\n",
      "2669\n",
      "2732\n",
      "2734\n",
      "2737\n",
      "2772\n",
      "2786\n",
      "2824\n"
     ]
    },
    {
     "data": {
      "text/plain": [
       "2824"
      ]
     },
     "execution_count": 47,
     "metadata": {},
     "output_type": "execute_result"
    }
   ],
   "source": [
    "def find_paths(data, time_limit1, time_limit2, path1, path2, pressure=0, unreleased=None, result=None):\n",
    "    global path_info\n",
    "\n",
    "    if unreleased is None:\n",
    "        unreleased = set([k for k, v in data.items() if v[\"pr\"] > 0])\n",
    "\n",
    "    if len(unreleased) == 0 or (time_limit1 <= 0 and time_limit2 <= 0):\n",
    "        if result is None or pressure > result[-1]:\n",
    "            result = (path1, path2, pressure)\n",
    "            print(result[-1])\n",
    "        return result\n",
    "\n",
    "    current1 = path1[-1]\n",
    "    current2 = path2[-1]\n",
    "    dist_to_next1, path_to_next1 = path_info[current1]\n",
    "    dist_to_next2, path_to_next2 = path_info[current2]\n",
    "\n",
    "    candidates1 = [(c, dist) for (c, dist) in dist_to_next1.items() if c in unreleased]\n",
    "    candidates1 = sorted(candidates1, key=lambda x: x[1])\n",
    "\n",
    "    # stop early\n",
    "    unreleased_potential = sum([data[cand][\"pr\"] * max([time_limit1, time_limit2]) for cand in unreleased])\n",
    "    if result is not None and pressure + unreleased_potential < result[-1]:\n",
    "        return result\n",
    "\n",
    "    for cand1, dist1 in candidates1:\n",
    "        ntime1 = time_limit1 - dist_to_next1[cand1] - 1\n",
    "\n",
    "        npath1 = path1 if ntime1 < 0 else path1 + path_to_next1[cand1][1:] + [cand1]\n",
    "        np_a1 = pressure if ntime1 < 0 else pressure + ntime1 * data[cand1][\"pr\"]\n",
    "        nr_a1 = unreleased if ntime1 < 0 else unreleased - {cand1}\n",
    "\n",
    "        candidates2 = [(c, dist) for (c, dist) in dist_to_next2.items() if c in nr_a1]\n",
    "        candidates2 = sorted(candidates2, key=lambda x: x[1])\n",
    "\n",
    "        if ntime1 <= 0:\n",
    "            if result is None or np_a1 > result[-1]:\n",
    "                result = (path1, path2, np_a1)\n",
    "                print(result[-1])\n",
    "            continue\n",
    "\n",
    "        for cand2, dist2 in candidates2:\n",
    "            ntime2 = time_limit2 - dist_to_next2[cand2] - 1\n",
    "\n",
    "            npath2 = path2 if ntime2 < 0 else path2 + path_to_next2[cand2][1:] + [cand2]\n",
    "            np = np_a1 if ntime2 < 0 else np_a1 + ntime2 * data[cand2][\"pr\"]\n",
    "            nr = nr_a1 if ntime2 < 0 else nr_a1 - {cand2}\n",
    "\n",
    "            if ntime2 <= 0:\n",
    "                if result is None or np > result[-1]:\n",
    "                    result = (path1, path2, np)\n",
    "                    print(result[-1])\n",
    "                continue\n",
    "\n",
    "            result = find_paths(data, ntime1, ntime2, npath1, npath2, np, nr, result)\n",
    "\n",
    "    return result\n",
    "\n",
    "\n",
    "data = real.copy()\n",
    "\n",
    "path_info = {k: find_optimal_path_djikstra(data, k) for k in data.keys()}\n",
    "\n",
    "start = \"AA\"\n",
    "result = find_paths(data, 26, 26, [\"AA\"], [\"AA\"])[-1]\n",
    "result"
   ]
  },
  {
   "cell_type": "code",
   "execution_count": 61,
   "metadata": {},
   "outputs": [],
   "source": [
    "# submit(result, part=\"b\", day=DAY, year=YEAR)"
   ]
  }
 ],
 "metadata": {
  "kernelspec": {
   "display_name": "Python 3.10.4 64-bit ('aoc-2022')",
   "language": "python",
   "name": "python3"
  },
  "language_info": {
   "codemirror_mode": {
    "name": "ipython",
    "version": 3
   },
   "file_extension": ".py",
   "mimetype": "text/x-python",
   "name": "python",
   "nbconvert_exporter": "python",
   "pygments_lexer": "ipython3",
   "version": "3.10.4"
  },
  "orig_nbformat": 4,
  "vscode": {
   "interpreter": {
    "hash": "5624460fa9e1cd9da4e6994541d8ff42604db2bd2a1d59618c452d0f7bde50e7"
   }
  }
 },
 "nbformat": 4,
 "nbformat_minor": 2
}
