{
 "cells": [
  {
   "cell_type": "code",
   "execution_count": 1,
   "metadata": {},
   "outputs": [],
   "source": [
    "import ast\n",
    "import copy\n",
    "import re\n",
    "\n",
    "import matplotlib.pyplot as plt\n",
    "import numpy as np\n",
    "import pandas as pd\n",
    "import sympy as sym\n",
    "from aocd import get_data, submit\n",
    "\n",
    "DAY = 21\n",
    "YEAR = 2022"
   ]
  },
  {
   "cell_type": "code",
   "execution_count": 2,
   "metadata": {},
   "outputs": [
    {
     "name": "stdout",
     "output_type": "stream",
     "text": [
      "root: pppw + sjmn\n",
      "dbpl: 5\n",
      "cczh: sllz + lgvd\n",
      "zczc: 2\n",
      "ptdq: humn - dvpt\n",
      "dvpt: 3\n",
      "lfqf: 4\n",
      "humn: 5\n",
      "ljgn: 2\n",
      "sjmn: drzm * dbpl\n",
      "sllz: 4\n",
      "pppw: cczh / lfqf\n",
      "lgvd: ljgn * ptdq\n",
      "drzm: hmdt - zczc\n",
      "hmdt: 32\n"
     ]
    }
   ],
   "source": [
    "# use test data\n",
    "raw_test = \"\"\"root: pppw + sjmn\n",
    "dbpl: 5\n",
    "cczh: sllz + lgvd\n",
    "zczc: 2\n",
    "ptdq: humn - dvpt\n",
    "dvpt: 3\n",
    "lfqf: 4\n",
    "humn: 5\n",
    "ljgn: 2\n",
    "sjmn: drzm * dbpl\n",
    "sllz: 4\n",
    "pppw: cczh / lfqf\n",
    "lgvd: ljgn * ptdq\n",
    "drzm: hmdt - zczc\n",
    "hmdt: 32\"\"\"\n",
    "\n",
    "# use real data\n",
    "raw = get_data(day=DAY, year=YEAR)\n",
    "\n",
    "print(raw_test)"
   ]
  },
  {
   "cell_type": "code",
   "execution_count": 3,
   "metadata": {},
   "outputs": [
    {
     "data": {
      "text/plain": [
       "{'root': {'monkeys': ['pppw', 'sjmn'], 'op': '+'},\n",
       " 'dbpl': 5,\n",
       " 'cczh': {'monkeys': ['sllz', 'lgvd'], 'op': '+'},\n",
       " 'zczc': 2,\n",
       " 'ptdq': {'monkeys': ['humn', 'dvpt'], 'op': '-'},\n",
       " 'dvpt': 3,\n",
       " 'lfqf': 4,\n",
       " 'humn': 5,\n",
       " 'ljgn': 2,\n",
       " 'sjmn': {'monkeys': ['drzm', 'dbpl'], 'op': '*'},\n",
       " 'sllz': 4,\n",
       " 'pppw': {'monkeys': ['cczh', 'lfqf'], 'op': '/'},\n",
       " 'lgvd': {'monkeys': ['ljgn', 'ptdq'], 'op': '*'},\n",
       " 'drzm': {'monkeys': ['hmdt', 'zczc'], 'op': '-'},\n",
       " 'hmdt': 32}"
      ]
     },
     "execution_count": 3,
     "metadata": {},
     "output_type": "execute_result"
    }
   ],
   "source": [
    "def parse_data(data):\n",
    "    data = data.split(\"\\n\")\n",
    "    out = {}\n",
    "    for d in data:\n",
    "        objects = re.findall(\"\\w+\", d)\n",
    "        if len(objects) == 2:\n",
    "            out[objects[0]] = int(objects[1])\n",
    "        else:\n",
    "            out[objects[0]] = {\"monkeys\": [*objects[1:]], \"op\": re.search(\"([\\+\\-\\/\\*]{1})\", d).group(1)}\n",
    "    return out\n",
    "\n",
    "\n",
    "dummy = parse_data(raw_test)\n",
    "real = parse_data(raw)\n",
    "\n",
    "dummy"
   ]
  },
  {
   "cell_type": "markdown",
   "metadata": {},
   "source": [
    "# Part 1"
   ]
  },
  {
   "cell_type": "code",
   "execution_count": 4,
   "metadata": {},
   "outputs": [
    {
     "data": {
      "text/plain": [
       "63119856257960"
      ]
     },
     "execution_count": 4,
     "metadata": {},
     "output_type": "execute_result"
    }
   ],
   "source": [
    "monkeys = copy.deepcopy(real)\n",
    "numbers = {m: v for m, v in monkeys.items() if isinstance(v, int)}\n",
    "operations = {m: v for m, v in monkeys.items() if not isinstance(v, int)}\n",
    "\n",
    "while \"root\" not in numbers:\n",
    "    to_del = []\n",
    "    for m, v in operations.items():\n",
    "        new_names = [name if name not in numbers else numbers[name] for name in v[\"monkeys\"]]\n",
    "        if all([isinstance(n, int) for n in new_names]):\n",
    "            numbers[m] = int(eval(f'{new_names[0]}{v[\"op\"]}{new_names[1]}'))\n",
    "            to_del.append(m)\n",
    "\n",
    "    for m in to_del:\n",
    "        del operations[m]\n",
    "\n",
    "result = numbers[\"root\"]\n",
    "result"
   ]
  },
  {
   "cell_type": "code",
   "execution_count": 5,
   "metadata": {},
   "outputs": [],
   "source": [
    "# submit(result, part=\"a\", day=DAY, year=YEAR)"
   ]
  },
  {
   "cell_type": "markdown",
   "metadata": {},
   "source": [
    "# Part 2"
   ]
  },
  {
   "cell_type": "code",
   "execution_count": 40,
   "metadata": {},
   "outputs": [
    {
     "data": {
      "text/plain": [
       "3006709232464"
      ]
     },
     "execution_count": 40,
     "metadata": {},
     "output_type": "execute_result"
    }
   ],
   "source": [
    "monkeys = copy.deepcopy(real)\n",
    "\n",
    "numbers = copy.deepcopy({m: v for m, v in monkeys.items() if isinstance(v, int)})\n",
    "operations = copy.deepcopy({m: v for m, v in monkeys.items() if not isinstance(v, int)})\n",
    "x = sym.Symbol(\"x\", real=True)\n",
    "\n",
    "numbers[\"humn\"] = x\n",
    "\n",
    "stop = False\n",
    "while \"root\" not in numbers:\n",
    "    to_del = []\n",
    "    for m, v in operations.items():\n",
    "        new_names = [name if name not in numbers else numbers[name] for name in v[\"monkeys\"]]\n",
    "        if all(\n",
    "            [isinstance(n, float) or isinstance(n, int) or (not isinstance(n, str) and n.is_real) for n in new_names]\n",
    "        ):\n",
    "            if m == \"root\":\n",
    "                operations[m][\"monkeys\"] = new_names\n",
    "                stop = True\n",
    "                break\n",
    "            a, b = new_names\n",
    "\n",
    "            numbers[m] = (\n",
    "                a + b if v[\"op\"] == \"+\" else (a - b if v[\"op\"] == \"-\" else (a * b if v[\"op\"] == \"*\" else a / b))\n",
    "            )\n",
    "            to_del.append(m)\n",
    "\n",
    "    if stop:\n",
    "        break\n",
    "\n",
    "    for m in to_del:\n",
    "        del operations[m]\n",
    "\n",
    "a, b = operations[\"root\"][\"monkeys\"]\n",
    "result = int(sym.solve(a - b, x)[0])\n",
    "result"
   ]
  },
  {
   "cell_type": "code",
   "execution_count": null,
   "metadata": {},
   "outputs": [],
   "source": [
    "# submit(result, part=\"b\", day=DAY, year=YEAR)"
   ]
  },
  {
   "attachments": {},
   "cell_type": "markdown",
   "metadata": {},
   "source": [
    "### Try with bisection"
   ]
  },
  {
   "attachments": {},
   "cell_type": "markdown",
   "metadata": {},
   "source": [
    "..."
   ]
  }
 ],
 "metadata": {
  "kernelspec": {
   "display_name": "Python 3.10.4 64-bit ('aoc-2022')",
   "language": "python",
   "name": "python3"
  },
  "language_info": {
   "codemirror_mode": {
    "name": "ipython",
    "version": 3
   },
   "file_extension": ".py",
   "mimetype": "text/x-python",
   "name": "python",
   "nbconvert_exporter": "python",
   "pygments_lexer": "ipython3",
   "version": "3.10.4 (main, Nov 30 2022, 16:56:30) [Clang 14.0.0 (clang-1400.0.29.202)]"
  },
  "orig_nbformat": 4,
  "vscode": {
   "interpreter": {
    "hash": "5624460fa9e1cd9da4e6994541d8ff42604db2bd2a1d59618c452d0f7bde50e7"
   }
  }
 },
 "nbformat": 4,
 "nbformat_minor": 2
}
