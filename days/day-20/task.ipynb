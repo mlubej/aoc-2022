{
 "cells": [
  {
   "cell_type": "code",
   "execution_count": 1,
   "metadata": {},
   "outputs": [],
   "source": [
    "import ast\n",
    "import copy\n",
    "import re\n",
    "\n",
    "import matplotlib.pyplot as plt\n",
    "import numpy as np\n",
    "import pandas as pd\n",
    "from aocd import get_data, submit\n",
    "\n",
    "DAY = 20\n",
    "YEAR = 2022"
   ]
  },
  {
   "cell_type": "code",
   "execution_count": 2,
   "metadata": {},
   "outputs": [
    {
     "name": "stdout",
     "output_type": "stream",
     "text": [
      "1\n",
      "2\n",
      "-3\n",
      "3\n",
      "-2\n",
      "0\n",
      "4\n"
     ]
    }
   ],
   "source": [
    "# use test data\n",
    "raw_test = \"\"\"1\n",
    "2\n",
    "-3\n",
    "3\n",
    "-2\n",
    "0\n",
    "4\"\"\"\n",
    "\n",
    "# use real data\n",
    "raw = get_data(day=DAY, year=YEAR)\n",
    "\n",
    "print(raw_test)"
   ]
  },
  {
   "cell_type": "code",
   "execution_count": 134,
   "metadata": {},
   "outputs": [
    {
     "data": {
      "text/plain": [
       "array([ 1,  2, -3,  3, -2,  0,  4])"
      ]
     },
     "execution_count": 134,
     "metadata": {},
     "output_type": "execute_result"
    }
   ],
   "source": [
    "def parse_data(data):\n",
    "    data = list(map(int, data.split(\"\\n\")))\n",
    "    # data = [d.split(\" \") for d in data]\n",
    "    # data = [d.split('\\n') for d in data.split('\\n\\n')]\n",
    "    # data = [np.array(d.split('\\n'), dtype=int) for d in data.split('\\n\\n')]\n",
    "\n",
    "    return np.array(data)\n",
    "\n",
    "\n",
    "dummy = parse_data(raw_test)\n",
    "real = parse_data(raw)\n",
    "\n",
    "dummy"
   ]
  },
  {
   "cell_type": "markdown",
   "metadata": {},
   "source": [
    "# Part 1"
   ]
  },
  {
   "cell_type": "code",
   "execution_count": 244,
   "metadata": {},
   "outputs": [
    {
     "data": {
      "text/plain": [
       "6712"
      ]
     },
     "execution_count": 244,
     "metadata": {},
     "output_type": "execute_result"
    }
   ],
   "source": [
    "def mix_array(original):\n",
    "    original = original.copy()\n",
    "    n = len(original)\n",
    "\n",
    "    mixed = original.copy()\n",
    "    indices = np.arange(n)\n",
    "\n",
    "    for idx, el in enumerate(original):\n",
    "        rel = el % (n - 1)\n",
    "        if el == 0 or rel == 0:\n",
    "            continue\n",
    "\n",
    "        loc = np.where(indices == idx)[0][0]\n",
    "        new_loc = loc + rel\n",
    "\n",
    "        if new_loc <= 0:\n",
    "            new_loc -= 1\n",
    "        elif new_loc >= n:\n",
    "            new_loc = new_loc % n + 1\n",
    "\n",
    "        mixed = np.insert(np.delete(mixed, loc), new_loc, el)\n",
    "        indices = np.insert(np.delete(indices, loc), new_loc, idx)\n",
    "\n",
    "    return mixed, indices\n",
    "\n",
    "\n",
    "def calc_metric(array):\n",
    "    zero_idx = np.argwhere(array == 0)[0][0]\n",
    "    result = sum([array[(zero_idx + offset) % len(array)] for offset in [1000, 2000, 3000]])\n",
    "    return result\n",
    "\n",
    "\n",
    "data = real.copy()\n",
    "\n",
    "calc_metric(mix_array(data)[0])"
   ]
  },
  {
   "cell_type": "code",
   "execution_count": 221,
   "metadata": {},
   "outputs": [],
   "source": [
    "# submit(result, part=\"a\", day=DAY, year=YEAR)"
   ]
  },
  {
   "cell_type": "markdown",
   "metadata": {},
   "source": [
    "# Part 2"
   ]
  },
  {
   "cell_type": "code",
   "execution_count": 245,
   "metadata": {},
   "outputs": [
    {
     "data": {
      "text/plain": [
       "1595584274798"
      ]
     },
     "execution_count": 245,
     "metadata": {},
     "output_type": "execute_result"
    }
   ],
   "source": [
    "def mix_array_v2(original, times=1):\n",
    "    original = original.copy()\n",
    "    n = len(original)\n",
    "\n",
    "    mixed = original.copy()\n",
    "    indices = np.arange(n)\n",
    "\n",
    "    while times > 0:\n",
    "        for idx, el in enumerate(original):\n",
    "            rel = el % (n - 1)\n",
    "            if el == 0 or rel == 0:\n",
    "                continue\n",
    "\n",
    "            loc = np.where(indices == idx)[0][0]\n",
    "            new_loc = loc + rel\n",
    "\n",
    "            if new_loc <= 0:\n",
    "                new_loc -= 1\n",
    "            elif new_loc >= n:\n",
    "                new_loc = new_loc % n + 1\n",
    "\n",
    "            mixed = np.insert(np.delete(mixed, loc), new_loc, el)\n",
    "            indices = np.insert(np.delete(indices, loc), new_loc, idx)\n",
    "\n",
    "        times -= 1\n",
    "\n",
    "    return mixed, indices\n",
    "\n",
    "\n",
    "data = real.copy()\n",
    "dk = 811589153\n",
    "\n",
    "result = calc_metric(mix_array_v2(data * dk, 10)[0])\n",
    "result"
   ]
  },
  {
   "cell_type": "code",
   "execution_count": 246,
   "metadata": {},
   "outputs": [],
   "source": [
    "# submit(result, part=\"b\", day=DAY, year=YEAR)"
   ]
  }
 ],
 "metadata": {
  "kernelspec": {
   "display_name": "Python 3.10.4 64-bit ('aoc-2022')",
   "language": "python",
   "name": "python3"
  },
  "language_info": {
   "codemirror_mode": {
    "name": "ipython",
    "version": 3
   },
   "file_extension": ".py",
   "mimetype": "text/x-python",
   "name": "python",
   "nbconvert_exporter": "python",
   "pygments_lexer": "ipython3",
   "version": "3.10.4"
  },
  "orig_nbformat": 4,
  "vscode": {
   "interpreter": {
    "hash": "5624460fa9e1cd9da4e6994541d8ff42604db2bd2a1d59618c452d0f7bde50e7"
   }
  }
 },
 "nbformat": 4,
 "nbformat_minor": 2
}
