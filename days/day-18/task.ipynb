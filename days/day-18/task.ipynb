{
 "cells": [
  {
   "cell_type": "code",
   "execution_count": 1,
   "metadata": {},
   "outputs": [],
   "source": [
    "import ast\n",
    "import copy\n",
    "import re\n",
    "\n",
    "import matplotlib.pyplot as plt\n",
    "import numpy as np\n",
    "import pandas as pd\n",
    "from aocd import get_data, submit\n",
    "\n",
    "DAY = 18\n",
    "YEAR = 2022"
   ]
  },
  {
   "cell_type": "code",
   "execution_count": 2,
   "metadata": {},
   "outputs": [
    {
     "name": "stdout",
     "output_type": "stream",
     "text": [
      "2,2,2\n",
      "1,2,2\n",
      "3,2,2\n",
      "2,1,2\n",
      "2,3,2\n",
      "2,2,1\n",
      "2,2,3\n",
      "2,2,4\n",
      "2,2,6\n",
      "1,2,5\n",
      "3,2,5\n",
      "2,1,5\n",
      "2,3,5\n"
     ]
    }
   ],
   "source": [
    "# use test data\n",
    "raw_test = \"\"\"2,2,2\n",
    "1,2,2\n",
    "3,2,2\n",
    "2,1,2\n",
    "2,3,2\n",
    "2,2,1\n",
    "2,2,3\n",
    "2,2,4\n",
    "2,2,6\n",
    "1,2,5\n",
    "3,2,5\n",
    "2,1,5\n",
    "2,3,5\"\"\"\n",
    "\n",
    "# use real data\n",
    "raw = get_data(day=DAY, year=YEAR)\n",
    "\n",
    "\n",
    "print(raw_test)"
   ]
  },
  {
   "cell_type": "code",
   "execution_count": 3,
   "metadata": {},
   "outputs": [
    {
     "data": {
      "text/plain": [
       "{(1, 2, 2),\n",
       " (1, 2, 5),\n",
       " (2, 1, 2),\n",
       " (2, 1, 5),\n",
       " (2, 2, 1),\n",
       " (2, 2, 2),\n",
       " (2, 2, 3),\n",
       " (2, 2, 4),\n",
       " (2, 2, 6),\n",
       " (2, 3, 2),\n",
       " (2, 3, 5),\n",
       " (3, 2, 2),\n",
       " (3, 2, 5)}"
      ]
     },
     "execution_count": 3,
     "metadata": {},
     "output_type": "execute_result"
    }
   ],
   "source": [
    "def parse_data(data):\n",
    "    data = data.split(\"\\n\")\n",
    "    data = np.array([re.findall(\"\\d+\", d) for d in data], dtype=int)\n",
    "    data = set(map(tuple, data))\n",
    "\n",
    "    return data\n",
    "\n",
    "\n",
    "dummy = parse_data(raw_test)\n",
    "real = parse_data(raw)\n",
    "\n",
    "dummy"
   ]
  },
  {
   "cell_type": "markdown",
   "metadata": {},
   "source": [
    "# Part 1"
   ]
  },
  {
   "cell_type": "code",
   "execution_count": 60,
   "metadata": {},
   "outputs": [
    {
     "data": {
      "text/plain": [
       "3662"
      ]
     },
     "execution_count": 60,
     "metadata": {},
     "output_type": "execute_result"
    }
   ],
   "source": [
    "data = real.copy()\n",
    "\n",
    "directions = [\n",
    "    [1, 0, 0],\n",
    "    [-1, 0, 0],\n",
    "    [0, 1, 0],\n",
    "    [0, -1, 0],\n",
    "    [0, 0, 1],\n",
    "    [0, 0, -1],\n",
    "]\n",
    "directions = np.array(directions)\n",
    "\n",
    "\n",
    "def surf_v1(data):\n",
    "    obs_nb_dict = {tuple(pt): set(map(tuple, (pt + directions))) & data for pt in data}\n",
    "    return sum([6 - len(nb) for nb in obs_nb_dict.values()])\n",
    "\n",
    "\n",
    "result = surf_v1(data)\n",
    "result"
   ]
  },
  {
   "cell_type": "code",
   "execution_count": 5,
   "metadata": {},
   "outputs": [],
   "source": [
    "# submit(result, part=\"a\", day=DAY, year=YEAR)"
   ]
  },
  {
   "cell_type": "markdown",
   "metadata": {},
   "source": [
    "# Part 2"
   ]
  },
  {
   "cell_type": "code",
   "execution_count": 84,
   "metadata": {},
   "outputs": [],
   "source": [
    "def is_unbound(air_pt, data):\n",
    "    if air_pt in data:\n",
    "        return False\n",
    "\n",
    "    ptx, pty, ptz = air_pt\n",
    "    colx = {d[0] for d in data if d[1] == pty and d[2] == ptz}\n",
    "    coly = {d[1] for d in data if d[0] == ptx and d[2] == ptz}\n",
    "    colz = {d[2] for d in data if d[0] == ptx and d[1] == pty}\n",
    "\n",
    "    free_x = len(colx) == 0 or (ptx > max(colx) or ptx < min(colx))\n",
    "    free_y = len(coly) == 0 or (pty > max(coly) or pty < min(coly))\n",
    "    free_z = len(colz) == 0 or (ptz > max(colz) or ptz < min(colz))\n",
    "\n",
    "    return any([free_x, free_y, free_z])"
   ]
  },
  {
   "cell_type": "code",
   "execution_count": 129,
   "metadata": {},
   "outputs": [
    {
     "data": {
      "text/plain": [
       "2060"
      ]
     },
     "execution_count": 129,
     "metadata": {},
     "output_type": "execute_result"
    }
   ],
   "source": [
    "data = real.copy()\n",
    "\n",
    "# same as before\n",
    "obs_nb_dict = {tuple(pt): set(map(tuple, (pt + directions))) & data for pt in data}\n",
    "\n",
    "# all neighboring air (air surrounded by air is missed)\n",
    "air_nb_dict = {tuple(pt): set(map(tuple, (pt + directions))) - data for pt in data}\n",
    "pocket_cands = {pt for v in air_nb_dict.values() for pt in v if not is_unbound(pt, data)}\n",
    "pocket_cands\n",
    "\n",
    "# remove air blocks which eventually connect to unbound air blocks\n",
    "not_pockets = set()\n",
    "while True:\n",
    "    for pt in pocket_cands:\n",
    "        pt_air_nb = set(map(tuple, (pt + directions))) - data\n",
    "        connected_to_unbound = {npt for npt in pt_air_nb if is_unbound(npt, data) or npt in not_pockets}\n",
    "        if len(connected_to_unbound) > 0:\n",
    "            not_pockets |= connected_to_unbound.union({pt})\n",
    "\n",
    "    pockets = pocket_cands - not_pockets\n",
    "    if pockets == pocket_cands:\n",
    "        break\n",
    "\n",
    "    pocket_cands = pockets\n",
    "\n",
    "# \"fill\" air pockets\n",
    "new_obs_nb_dict = {tuple(pt): obs_nb_dict[pt] | (set(map(tuple, (pt + directions))) & pocket_cands) for pt in data}\n",
    "result = sum([6 - len(nb) for nb in new_obs_nb_dict.values()])\n",
    "result"
   ]
  },
  {
   "cell_type": "code",
   "execution_count": 130,
   "metadata": {},
   "outputs": [],
   "source": [
    "# submit(result, part=\"b\", day=DAY, year=YEAR)"
   ]
  }
 ],
 "metadata": {
  "kernelspec": {
   "display_name": "Python 3.10.4 64-bit ('aoc-2022')",
   "language": "python",
   "name": "python3"
  },
  "language_info": {
   "codemirror_mode": {
    "name": "ipython",
    "version": 3
   },
   "file_extension": ".py",
   "mimetype": "text/x-python",
   "name": "python",
   "nbconvert_exporter": "python",
   "pygments_lexer": "ipython3",
   "version": "3.10.4"
  },
  "orig_nbformat": 4,
  "vscode": {
   "interpreter": {
    "hash": "5624460fa9e1cd9da4e6994541d8ff42604db2bd2a1d59618c452d0f7bde50e7"
   }
  }
 },
 "nbformat": 4,
 "nbformat_minor": 2
}
