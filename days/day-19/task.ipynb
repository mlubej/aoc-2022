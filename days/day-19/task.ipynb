{
 "cells": [
  {
   "cell_type": "code",
   "execution_count": 3,
   "metadata": {},
   "outputs": [],
   "source": [
    "import ast\n",
    "import copy\n",
    "import multiprocessing\n",
    "import re\n",
    "from concurrent.futures import ProcessPoolExecutor\n",
    "from functools import partial\n",
    "\n",
    "import matplotlib.pyplot as plt\n",
    "import numpy as np\n",
    "import pandas as pd\n",
    "from aocd import get_data, submit\n",
    "\n",
    "multiprocessing.set_start_method(\"fork\")\n",
    "\n",
    "DAY = 19\n",
    "YEAR = 2022"
   ]
  },
  {
   "cell_type": "code",
   "execution_count": 4,
   "metadata": {},
   "outputs": [
    {
     "name": "stdout",
     "output_type": "stream",
     "text": [
      "Blueprint 1: Each ore robot costs 4 ore. Each clay robot costs 2 ore. Each obsidian robot costs 3 ore and 14 clay. Each geode robot costs 2 ore and 7 obsidian.\n",
      "Blueprint 2: Each ore robot costs 2 ore. Each clay robot costs 3 ore. Each obsidian robot costs 3 ore and 8 clay. Each geode robot costs 3 ore and 12 obsidian.\n"
     ]
    }
   ],
   "source": [
    "# use test data\n",
    "raw_test = \"\"\"Blueprint 1: Each ore robot costs 4 ore. Each clay robot costs 2 ore. Each obsidian robot costs 3 ore and 14 clay. Each geode robot costs 2 ore and 7 obsidian.\n",
    "Blueprint 2: Each ore robot costs 2 ore. Each clay robot costs 3 ore. Each obsidian robot costs 3 ore and 8 clay. Each geode robot costs 3 ore and 12 obsidian.\"\"\"\n",
    "\n",
    "# use real data\n",
    "raw = get_data(day=DAY, year=YEAR)\n",
    "\n",
    "print(raw_test)"
   ]
  },
  {
   "cell_type": "code",
   "execution_count": 5,
   "metadata": {},
   "outputs": [
    {
     "data": {
      "text/plain": [
       "{(1, 0, 0, 0): (3, 0, 0, 0),\n",
       " (0, 1, 0, 0): (3, 0, 0, 0),\n",
       " (0, 0, 1, 0): (3, 9, 0, 0),\n",
       " (0, 0, 0, 1): (3, 0, 7, 0),\n",
       " (0, 0, 0, 0): (0, 0, 0, 0)}"
      ]
     },
     "execution_count": 5,
     "metadata": {},
     "output_type": "execute_result"
    }
   ],
   "source": [
    "def parse_data(data):\n",
    "    data = data.split(\"\\n\")\n",
    "    blueprints = {}\n",
    "    for d in data:\n",
    "        bid, ore_o, cly_ore, obs_ore, obs_cly, gde_ore, gde_obs = map(int, re.findall(\"\\d+\", d))\n",
    "\n",
    "        # bot code: cost (ore, cly, obs, gde)\n",
    "        blueprints[bid] = {\n",
    "            (1, 0, 0, 0): (ore_o, 0, 0, 0),  # build ore bot\n",
    "            (0, 1, 0, 0): (cly_ore, 0, 0, 0),  # build cly bot\n",
    "            (0, 0, 1, 0): (obs_ore, obs_cly, 0, 0),  # build obs bot\n",
    "            (0, 0, 0, 1): (gde_ore, 0, gde_obs, 0),  # build gde bot\n",
    "            (0, 0, 0, 0): (0, 0, 0, 0),  # collect, no bot-building\n",
    "        }\n",
    "\n",
    "    return blueprints\n",
    "\n",
    "\n",
    "dummy = parse_data(raw_test)\n",
    "real = parse_data(raw)\n",
    "\n",
    "# dummy\n",
    "real[17]"
   ]
  },
  {
   "cell_type": "markdown",
   "metadata": {},
   "source": [
    "# Part 1"
   ]
  },
  {
   "cell_type": "code",
   "execution_count": 10,
   "metadata": {},
   "outputs": [],
   "source": [
    "def is_enough(mats, cost):\n",
    "    return all([m >= c for m, c in zip(mats, cost)])\n",
    "\n",
    "\n",
    "def potential_actions(mats, bots, blueprint, bot_limits):\n",
    "    possible_actions = [action for action, cost in blueprint.items() if is_enough(mats, cost)]\n",
    "\n",
    "    actions = []\n",
    "    for a in possible_actions:  # only produce bots untill you have enough\n",
    "        c1 = a == (1, 0, 0, 0) and bots[0] >= bot_limits[0]\n",
    "        c2 = a == (0, 1, 0, 0) and bots[1] >= bot_limits[1]\n",
    "        c3 = a == (0, 0, 1, 0) and bots[2] >= bot_limits[2]\n",
    "\n",
    "        if not (c1 or c2 or c3):\n",
    "            actions.append(a)\n",
    "\n",
    "    return actions\n",
    "\n",
    "\n",
    "def perform_action(mats, bots, blueprint, action):\n",
    "    # collection\n",
    "    mats = tuple([m + b for m, b in zip(mats, bots)])  # bots collect material\n",
    "\n",
    "    # production\n",
    "    mats = tuple([m - c for m, c in zip(mats, blueprint[action])])  # bot production costs material\n",
    "    bots = tuple([b + a for b, a in zip(bots, action)])  # bot production increases bot amount\n",
    "\n",
    "    return mats, bots\n",
    "\n",
    "\n",
    "def dfs(blueprint, mats=None, bots=None, time_limit=24, bot_limits=None, result=None):\n",
    "    if mats is None:\n",
    "        mats, bots = (0, 0, 0, 0), (1, 0, 0, 0)\n",
    "        bot_limits = np.array(list(blueprint.values())).max(axis=0)\n",
    "        result = mats, bots\n",
    "\n",
    "    if time_limit == 0:\n",
    "        if result is None or mats[-1] > result[0][-1]:\n",
    "            # print(result)\n",
    "            result = (mats, bots)\n",
    "\n",
    "        return result\n",
    "\n",
    "    # stop early\n",
    "    if mats[-1] + bots[-1] * time_limit + (time_limit * (time_limit - 1)) // 2 <= result[0][-1]:\n",
    "        return result\n",
    "\n",
    "    new_actions = potential_actions(mats, bots, blueprint, bot_limits)\n",
    "    collect = (0, 0, 0, 0)\n",
    "\n",
    "    if time_limit == 3:\n",
    "        eligible_actions = set(new_actions) - {(0, 1, 0, 0)}\n",
    "    elif time_limit == 2:\n",
    "        eligible_actions = set(new_actions) & {(0, 0, 0, 0), (0, 0, 0, 1)}\n",
    "    elif time_limit == 1:\n",
    "        eligible_actions = {(0, 0, 0, 0)}\n",
    "    else:\n",
    "        eligible_actions = set(new_actions)\n",
    "\n",
    "    # production line\n",
    "    for a in eligible_actions - {collect}:\n",
    "        new_mats, new_bots = perform_action(mats, bots, blueprint, a)\n",
    "        new_time_limit = time_limit - 1\n",
    "        result = dfs(blueprint, new_mats, new_bots, new_time_limit, bot_limits, result)\n",
    "\n",
    "    # no production line\n",
    "    bot_actions_to_ignore = eligible_actions - {collect}\n",
    "    new_mats, new_bots, new_time_limit = mats, bots, time_limit\n",
    "    while True:\n",
    "        new_mats, new_bots = perform_action(new_mats, new_bots, blueprint, collect)\n",
    "        new_time_limit -= 1\n",
    "\n",
    "        updated_bot_actions = set(potential_actions(new_mats, new_bots, blueprint, bot_limits)) - eligible_actions\n",
    "        if len(updated_bot_actions) > 0 or new_time_limit == 0:\n",
    "            break\n",
    "\n",
    "    if new_time_limit == 0:\n",
    "        return dfs(blueprint, new_mats, new_bots, new_time_limit, bot_limits, result)\n",
    "\n",
    "    prev_mats, prev_bots, prev_time_limit = new_mats, new_bots, new_time_limit\n",
    "    for action in updated_bot_actions | {collect}:\n",
    "        new_mats, new_bots = perform_action(prev_mats, prev_bots, blueprint, action)\n",
    "        result = dfs(blueprint, new_mats, new_bots, prev_time_limit - 1, bot_limits, result)\n",
    "\n",
    "    return result"
   ]
  },
  {
   "cell_type": "code",
   "execution_count": 11,
   "metadata": {},
   "outputs": [
    {
     "data": {
      "text/plain": [
       "2301"
      ]
     },
     "execution_count": 11,
     "metadata": {},
     "output_type": "execute_result"
    }
   ],
   "source": [
    "data = real.copy()\n",
    "\n",
    "data = np.array([[bid, bp] for bid, bp in data.items()])\n",
    "bids = data[:, 0].tolist()\n",
    "bps = data[:, 1].tolist()\n",
    "\n",
    "with ProcessPoolExecutor() as executor:\n",
    "    results = list(executor.map(dfs, bps))\n",
    "\n",
    "result = sum([bid * res[0][-1] for bid, res in zip(bids, results)])\n",
    "result"
   ]
  },
  {
   "cell_type": "code",
   "execution_count": 28,
   "metadata": {},
   "outputs": [],
   "source": [
    "# submit(result, part=\"a\", day=DAY, year=YEAR)"
   ]
  },
  {
   "cell_type": "markdown",
   "metadata": {},
   "source": [
    "# Part 2"
   ]
  },
  {
   "cell_type": "code",
   "execution_count": 25,
   "metadata": {},
   "outputs": [
    {
     "data": {
      "text/plain": [
       "10336"
      ]
     },
     "execution_count": 25,
     "metadata": {},
     "output_type": "execute_result"
    }
   ],
   "source": [
    "data = real.copy()\n",
    "\n",
    "blueprints = [bp for bp in list(data.values())[:3]]\n",
    "dfs_v2 = partial(dfs, time_limit=32)\n",
    "with ProcessPoolExecutor() as executor:\n",
    "    results = list(executor.map(dfs_v2, blueprints))\n",
    "\n",
    "result = np.prod([res[0][-1] for res in results])\n",
    "result"
   ]
  },
  {
   "cell_type": "code",
   "execution_count": 27,
   "metadata": {},
   "outputs": [],
   "source": [
    "# submit(result, part=\"b\", day=DAY, year=YEAR)"
   ]
  }
 ],
 "metadata": {
  "kernelspec": {
   "display_name": "Python 3.10.4 64-bit ('aoc-2022')",
   "language": "python",
   "name": "python3"
  },
  "language_info": {
   "codemirror_mode": {
    "name": "ipython",
    "version": 3
   },
   "file_extension": ".py",
   "mimetype": "text/x-python",
   "name": "python",
   "nbconvert_exporter": "python",
   "pygments_lexer": "ipython3",
   "version": "3.10.4"
  },
  "orig_nbformat": 4,
  "vscode": {
   "interpreter": {
    "hash": "5624460fa9e1cd9da4e6994541d8ff42604db2bd2a1d59618c452d0f7bde50e7"
   }
  }
 },
 "nbformat": 4,
 "nbformat_minor": 2
}
