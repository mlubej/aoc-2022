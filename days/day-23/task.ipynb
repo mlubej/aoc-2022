{
 "cells": [
  {
   "cell_type": "code",
   "execution_count": 1,
   "metadata": {},
   "outputs": [],
   "source": [
    "import ast\n",
    "import copy\n",
    "import re\n",
    "\n",
    "import matplotlib.pyplot as plt\n",
    "import numpy as np\n",
    "import pandas as pd\n",
    "from aocd import get_data, submit\n",
    "\n",
    "DAY = 23\n",
    "YEAR = 2022"
   ]
  },
  {
   "cell_type": "code",
   "execution_count": 123,
   "metadata": {},
   "outputs": [
    {
     "name": "stdout",
     "output_type": "stream",
     "text": [
      "..............\n",
      "..............\n",
      ".......#......\n",
      ".....###.#....\n",
      "...#...#.#....\n",
      "....#...##....\n",
      "...#.###......\n",
      "...##.#.##....\n",
      "....#..#......\n",
      "..............\n",
      "..............\n",
      "..............\n"
     ]
    }
   ],
   "source": [
    "# use test data\n",
    "raw_test = \"\"\"..............\n",
    "..............\n",
    ".......#......\n",
    ".....###.#....\n",
    "...#...#.#....\n",
    "....#...##....\n",
    "...#.###......\n",
    "...##.#.##....\n",
    "....#..#......\n",
    "..............\n",
    "..............\n",
    "..............\"\"\"\n",
    "\n",
    "# use real data\n",
    "raw = get_data(day=DAY, year=YEAR)\n",
    "\n",
    "print(raw_test)"
   ]
  },
  {
   "cell_type": "code",
   "execution_count": 137,
   "metadata": {},
   "outputs": [
    {
     "data": {
      "text/plain": [
       "{(4, 5),\n",
       " (4, 7),\n",
       " (4, 8),\n",
       " (5, 6),\n",
       " (5, 8),\n",
       " (5, 9),\n",
       " (6, 4),\n",
       " (6, 7),\n",
       " (7, 4),\n",
       " (7, 7),\n",
       " (7, 8),\n",
       " (8, 3),\n",
       " (8, 4),\n",
       " (8, 5),\n",
       " (8, 7),\n",
       " (8, 9),\n",
       " (9, 6),\n",
       " (9, 8),\n",
       " (10, 4),\n",
       " (10, 5),\n",
       " (10, 6),\n",
       " (10, 8)}"
      ]
     },
     "execution_count": 137,
     "metadata": {},
     "output_type": "execute_result"
    }
   ],
   "source": [
    "def parse_data(data):\n",
    "    elves = set()\n",
    "    data = data.split(\"\\n\")\n",
    "    for rdx, row in enumerate(data):\n",
    "        for cdx, el in enumerate(list(row)):\n",
    "            if el == \"#\":\n",
    "                elves.add((cdx + 1, rdx + 1))\n",
    "\n",
    "    return elves\n",
    "\n",
    "\n",
    "dummy = parse_data(raw_test)\n",
    "real = parse_data(raw)\n",
    "\n",
    "dummy"
   ]
  },
  {
   "cell_type": "markdown",
   "metadata": {},
   "source": [
    "# Part 1"
   ]
  },
  {
   "cell_type": "code",
   "execution_count": 206,
   "metadata": {},
   "outputs": [
    {
     "data": {
      "text/plain": [
       "4172"
      ]
     },
     "execution_count": 206,
     "metadata": {},
     "output_type": "execute_result"
    }
   ],
   "source": [
    "def consider_positions_single(grid, coords):\n",
    "    global dir_groups\n",
    "    global dir_offset\n",
    "    global directions\n",
    "\n",
    "    cx, cy = coords\n",
    "    elves_nb = {(cx + x, cy + y) for x, y in directions.values() if (cx + x, cy + y) in grid}\n",
    "\n",
    "    if len(elves_nb) == 0:\n",
    "        return coords\n",
    "\n",
    "    valid_move = False\n",
    "    for idx in range(dir_offset, dir_offset + 4):\n",
    "        idx = idx % 4\n",
    "        if all([(cx + x, cy + y) not in grid for x, y in dir_groups[idx]]):\n",
    "            valid_move = True\n",
    "            break\n",
    "\n",
    "    if valid_move:\n",
    "        x, y = dir_groups[idx][1]\n",
    "        return (cx + x, cy + y)\n",
    "\n",
    "    return coords\n",
    "\n",
    "\n",
    "def consider_positions(grid):\n",
    "    global dir_offset\n",
    "\n",
    "    moves = {}\n",
    "    for idx, elf in enumerate(grid):\n",
    "        new_coords = consider_positions_single(grid, elf)\n",
    "        if new_coords not in moves:\n",
    "            moves[new_coords] = []\n",
    "        moves[new_coords].append(elf)\n",
    "\n",
    "    return moves\n",
    "\n",
    "\n",
    "def execute_positions(grid):\n",
    "    global dir_offset\n",
    "\n",
    "    proposed_moves = consider_positions(grid)\n",
    "    new_moves = set()\n",
    "\n",
    "    for new_poz, elf_list in proposed_moves.items():\n",
    "        if len(elf_list) == 1:\n",
    "            new_moves.add(new_poz)\n",
    "        else:\n",
    "            for elf in elf_list:\n",
    "                new_moves.add(elf)\n",
    "    return new_moves\n",
    "\n",
    "\n",
    "def eval_grid(grid, plot=False):\n",
    "    grid = np.array(list(grid))\n",
    "    xmin, ymin = grid.min(axis=0)\n",
    "    xmax, ymax = grid.max(axis=0)\n",
    "    mask = np.zeros((ymax - ymin + 1, xmax - xmin + 1))\n",
    "    for x, y in grid:\n",
    "        mask[y - ymin, x - xmin] = 1\n",
    "\n",
    "    if plot:\n",
    "        plt.imshow(mask, extent=[xmin - 0.5, xmax + 0.5, ymax + 0.5, ymin - 0.5])\n",
    "        for x, y in grid:\n",
    "            plt.text(x, y, f\"{(x,y)}\", ha=\"center\", va=\"center\", fontsize=7)\n",
    "\n",
    "    return np.count_nonzero(1 - mask)\n",
    "\n",
    "\n",
    "grid = copy.deepcopy(real)\n",
    "\n",
    "directions = {\n",
    "    \"N\": [0, -1],\n",
    "    \"S\": [0, 1],\n",
    "    \"W\": [-1, 0],\n",
    "    \"E\": [1, 0],\n",
    "    \"NE\": [1, -1],\n",
    "    \"SE\": [1, 1],\n",
    "    \"SW\": [-1, 1],\n",
    "    \"NW\": [-1, -1],\n",
    "}\n",
    "dir_groups = [[\"NW\", \"N\", \"NE\"], [\"SW\", \"S\", \"SE\"], [\"NW\", \"W\", \"SW\"], [\"NE\", \"E\", \"SE\"]]\n",
    "dir_groups = [[directions[d] for d in group] for group in dir_groups]\n",
    "dir_offset = 0\n",
    "\n",
    "rounds = 10\n",
    "while rounds > 0:\n",
    "    grid = execute_positions(grid)\n",
    "    dir_offset += 1\n",
    "    rounds -= 1\n",
    "\n",
    "result = eval_grid(grid)\n",
    "result"
   ]
  },
  {
   "cell_type": "code",
   "execution_count": 173,
   "metadata": {},
   "outputs": [],
   "source": [
    "# submit(result, part=\"a\", day=DAY, year=YEAR)"
   ]
  },
  {
   "cell_type": "markdown",
   "metadata": {},
   "source": [
    "# Part 2"
   ]
  },
  {
   "cell_type": "code",
   "execution_count": 208,
   "metadata": {},
   "outputs": [
    {
     "data": {
      "text/plain": [
       "942"
      ]
     },
     "execution_count": 208,
     "metadata": {},
     "output_type": "execute_result"
    }
   ],
   "source": [
    "grid = copy.deepcopy(real)\n",
    "\n",
    "rounds = 1\n",
    "dir_offset = 0\n",
    "while True:\n",
    "    new_grid = execute_positions(grid)\n",
    "    if new_grid == grid:\n",
    "        break\n",
    "    grid = new_grid\n",
    "    dir_offset += 1\n",
    "    rounds += 1\n",
    "\n",
    "result = rounds\n",
    "result"
   ]
  },
  {
   "cell_type": "code",
   "execution_count": 209,
   "metadata": {},
   "outputs": [],
   "source": [
    "# submit(result, part=\"b\", day=DAY, year=YEAR)"
   ]
  }
 ],
 "metadata": {
  "kernelspec": {
   "display_name": "Python 3.10.4 64-bit ('aoc-2022')",
   "language": "python",
   "name": "python3"
  },
  "language_info": {
   "codemirror_mode": {
    "name": "ipython",
    "version": 3
   },
   "file_extension": ".py",
   "mimetype": "text/x-python",
   "name": "python",
   "nbconvert_exporter": "python",
   "pygments_lexer": "ipython3",
   "version": "3.10.4"
  },
  "orig_nbformat": 4,
  "vscode": {
   "interpreter": {
    "hash": "5624460fa9e1cd9da4e6994541d8ff42604db2bd2a1d59618c452d0f7bde50e7"
   }
  }
 },
 "nbformat": 4,
 "nbformat_minor": 2
}
