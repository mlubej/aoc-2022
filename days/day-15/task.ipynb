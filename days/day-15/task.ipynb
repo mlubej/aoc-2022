{
 "cells": [
  {
   "cell_type": "code",
   "execution_count": 1,
   "metadata": {},
   "outputs": [],
   "source": [
    "import ast\n",
    "import copy\n",
    "import re\n",
    "\n",
    "import matplotlib.pyplot as plt\n",
    "import numpy as np\n",
    "import pandas as pd\n",
    "from aocd import get_data, submit\n",
    "from tqdm.auto import tqdm\n",
    "\n",
    "DAY = 15\n",
    "YEAR = 2022"
   ]
  },
  {
   "cell_type": "code",
   "execution_count": 2,
   "metadata": {},
   "outputs": [
    {
     "name": "stdout",
     "output_type": "stream",
     "text": [
      "Sensor at x=2, y=18: closest beacon is at x=-2, y=15\n",
      "Sensor at x=9, y=16: closest beacon is at x=10, y=16\n",
      "Sensor at x=13, y=2: closest beacon is at x=15, y=3\n",
      "Sensor at x=12, y=14: closest beacon is at x=10, y=16\n",
      "Sensor at x=10, y=20: closest beacon is at x=10, y=16\n",
      "Sensor at x=14, y=17: closest beacon is at x=10, y=16\n",
      "Sensor at x=8, y=7: closest beacon is at x=2, y=10\n",
      "Sensor at x=2, y=0: closest beacon is at x=2, y=10\n",
      "Sensor at x=0, y=11: closest beacon is at x=2, y=10\n",
      "Sensor at x=20, y=14: closest beacon is at x=25, y=17\n",
      "Sensor at x=17, y=20: closest beacon is at x=21, y=22\n",
      "Sensor at x=16, y=7: closest beacon is at x=15, y=3\n",
      "Sensor at x=14, y=3: closest beacon is at x=15, y=3\n",
      "Sensor at x=20, y=1: closest beacon is at x=15, y=3\n"
     ]
    }
   ],
   "source": [
    "# use test data\n",
    "raw_test = \"\"\"Sensor at x=2, y=18: closest beacon is at x=-2, y=15\n",
    "Sensor at x=9, y=16: closest beacon is at x=10, y=16\n",
    "Sensor at x=13, y=2: closest beacon is at x=15, y=3\n",
    "Sensor at x=12, y=14: closest beacon is at x=10, y=16\n",
    "Sensor at x=10, y=20: closest beacon is at x=10, y=16\n",
    "Sensor at x=14, y=17: closest beacon is at x=10, y=16\n",
    "Sensor at x=8, y=7: closest beacon is at x=2, y=10\n",
    "Sensor at x=2, y=0: closest beacon is at x=2, y=10\n",
    "Sensor at x=0, y=11: closest beacon is at x=2, y=10\n",
    "Sensor at x=20, y=14: closest beacon is at x=25, y=17\n",
    "Sensor at x=17, y=20: closest beacon is at x=21, y=22\n",
    "Sensor at x=16, y=7: closest beacon is at x=15, y=3\n",
    "Sensor at x=14, y=3: closest beacon is at x=15, y=3\n",
    "Sensor at x=20, y=1: closest beacon is at x=15, y=3\"\"\"\n",
    "\n",
    "# use real data\n",
    "raw = get_data(day=DAY, year=YEAR)\n",
    "\n",
    "print(raw_test)"
   ]
  },
  {
   "cell_type": "code",
   "execution_count": 3,
   "metadata": {},
   "outputs": [
    {
     "data": {
      "text/plain": [
       "{(2, 18): (-2, 15),\n",
       " (9, 16): (10, 16),\n",
       " (13, 2): (15, 3),\n",
       " (12, 14): (10, 16),\n",
       " (10, 20): (10, 16),\n",
       " (14, 17): (10, 16),\n",
       " (8, 7): (2, 10),\n",
       " (2, 0): (2, 10),\n",
       " (0, 11): (2, 10),\n",
       " (20, 14): (25, 17),\n",
       " (17, 20): (21, 22),\n",
       " (16, 7): (15, 3),\n",
       " (14, 3): (15, 3),\n",
       " (20, 1): (15, 3)}"
      ]
     },
     "execution_count": 3,
     "metadata": {},
     "output_type": "execute_result"
    }
   ],
   "source": [
    "def parse_data(data):\n",
    "    data = data.split(\"\\n\")\n",
    "    data = [np.array(re.findall(\"-{0,1}[\\d]+\", d), dtype=int) for d in data]\n",
    "    data = {(sx, sy): (bx, by) for sx, sy, bx, by in data}\n",
    "    return data\n",
    "\n",
    "\n",
    "dummy = parse_data(raw_test)\n",
    "real = parse_data(raw)\n",
    "\n",
    "dummy"
   ]
  },
  {
   "cell_type": "markdown",
   "metadata": {},
   "source": [
    "# Part 1"
   ]
  },
  {
   "cell_type": "code",
   "execution_count": 4,
   "metadata": {},
   "outputs": [],
   "source": [
    "def mdist(p1, p2):\n",
    "    return abs(p1[0] - p2[0]) + abs(p1[1] - p2[1])\n",
    "\n",
    "\n",
    "def unify_ranges(ranges):\n",
    "    ranges = sorted(map(list, ranges))\n",
    "\n",
    "    new_ranges = [ranges[0]]\n",
    "    for cs, ce in ranges[1:]:\n",
    "        ps, pe = new_ranges[-1]\n",
    "        if cs <= pe:\n",
    "            new_ranges[-1][1] = max(ce, pe)\n",
    "        else:\n",
    "            new_ranges.append([cs, ce])\n",
    "\n",
    "    return new_ranges"
   ]
  },
  {
   "cell_type": "code",
   "execution_count": 5,
   "metadata": {},
   "outputs": [
    {
     "data": {
      "text/plain": [
       "5403290"
      ]
     },
     "execution_count": 5,
     "metadata": {},
     "output_type": "execute_result"
    }
   ],
   "source": [
    "def find_for_y(data, distances, bs_list, y):\n",
    "    non_eligible_ranges = []\n",
    "    for ((sx, sy), (bx, by)), max_dist in zip(data.items(), distances):\n",
    "        if abs(sy - y) > max_dist:\n",
    "            continue\n",
    "\n",
    "        wiggle_room = max_dist - abs(sy - y)\n",
    "        x1, x2 = sx - wiggle_room, sx + wiggle_room\n",
    "        non_eligible_ranges.append((x1, x2 + 1))\n",
    "\n",
    "    bs_count = len([bs for bs in bs_list if bs[1] == y])\n",
    "    ranges = unify_ranges(non_eligible_ranges)\n",
    "    result = sum([x2 - x1 for x1, x2 in ranges]) - bs_count\n",
    "    return result\n",
    "\n",
    "\n",
    "data = real.copy()\n",
    "\n",
    "distances = [mdist(s, b) for s, b in data.items()]\n",
    "y = 10 if (2, 18) in data else 2000000\n",
    "bs_list = {el for pair in data.items() for el in pair}\n",
    "\n",
    "result = find_for_y(data, distances, bs_list, y)\n",
    "result"
   ]
  },
  {
   "cell_type": "code",
   "execution_count": 6,
   "metadata": {},
   "outputs": [],
   "source": [
    "# submit(result, part=\"a\", day=DAY, year=YEAR)"
   ]
  },
  {
   "cell_type": "markdown",
   "metadata": {},
   "source": [
    "# Part 2"
   ]
  },
  {
   "cell_type": "code",
   "execution_count": 7,
   "metadata": {},
   "outputs": [
    {
     "data": {
      "text/plain": [
       "10291582906626"
      ]
     },
     "execution_count": 7,
     "metadata": {},
     "output_type": "execute_result"
    }
   ],
   "source": [
    "def find_for_y_v2(data, distances, y, lim):\n",
    "    non_eligible_ranges = []\n",
    "    for ((sx, sy), (bx, by)), max_dist in zip(data.items(), distances):\n",
    "        if abs(sy - y) > max_dist or sx + max_dist < 0 or sx - max_dist > lim:\n",
    "            continue\n",
    "\n",
    "        wiggle_room = max_dist - abs(sy - y)\n",
    "        x1, x2 = sx - wiggle_room, sx + wiggle_room\n",
    "        non_eligible_ranges.append((x1, x2 + 1))\n",
    "\n",
    "    ranges = unify_ranges(non_eligible_ranges)\n",
    "    if len(ranges) > 1:\n",
    "        return freq(ranges[0][1], y)\n",
    "\n",
    "\n",
    "def freq(x, y):\n",
    "    return x * 4000000 + y\n",
    "\n",
    "\n",
    "data = real.copy()\n",
    "\n",
    "distances = [mdist(s, b) for s, b in data.items()]\n",
    "lim = 20 if (2, 18) in data else 4000000\n",
    "\n",
    "for y in range(0, lim + 1):\n",
    "    result = find_for_y_v2(data, distances, y, lim)\n",
    "    if result is not None:\n",
    "        break\n",
    "\n",
    "result"
   ]
  },
  {
   "cell_type": "code",
   "execution_count": null,
   "metadata": {},
   "outputs": [],
   "source": [
    "# submit(result, part=\"b\", day=DAY, year=YEAR)"
   ]
  }
 ],
 "metadata": {
  "kernelspec": {
   "display_name": "Python 3.10.4 64-bit ('aoc-2022')",
   "language": "python",
   "name": "python3"
  },
  "language_info": {
   "codemirror_mode": {
    "name": "ipython",
    "version": 3
   },
   "file_extension": ".py",
   "mimetype": "text/x-python",
   "name": "python",
   "nbconvert_exporter": "python",
   "pygments_lexer": "ipython3",
   "version": "3.10.4"
  },
  "orig_nbformat": 4,
  "vscode": {
   "interpreter": {
    "hash": "5624460fa9e1cd9da4e6994541d8ff42604db2bd2a1d59618c452d0f7bde50e7"
   }
  }
 },
 "nbformat": 4,
 "nbformat_minor": 2
}
