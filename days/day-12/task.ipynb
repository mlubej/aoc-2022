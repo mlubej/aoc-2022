{
 "cells": [
  {
   "cell_type": "code",
   "execution_count": null,
   "metadata": {},
   "outputs": [],
   "source": [
    "import copy\n",
    "import re\n",
    "\n",
    "import matplotlib.pyplot as plt\n",
    "import numpy as np\n",
    "import pandas as pd\n",
    "from aocd import get_data, submit\n",
    "\n",
    "DAY = 12\n",
    "YEAR = 2022"
   ]
  },
  {
   "cell_type": "code",
   "execution_count": null,
   "metadata": {},
   "outputs": [],
   "source": [
    "# use real data\n",
    "raw = get_data(day=DAY, year=YEAR)\n",
    "\n",
    "print(raw)"
   ]
  },
  {
   "cell_type": "code",
   "execution_count": null,
   "metadata": {},
   "outputs": [],
   "source": [
    "def parse_data(data):\n",
    "    data = data.split(\"\\n\")\n",
    "    data = np.array([list(d) for d in data])\n",
    "    s, e = np.argwhere(data == \"S\")[0], np.argwhere(data == \"E\")[0]\n",
    "    data[s[0], s[1]] = \"s\"\n",
    "    data[e[0], e[1]] = \"e\"\n",
    "    data = np.vectorize(ord)(data)\n",
    "    return data - ord(\"a\"), tuple(s), tuple(e)\n",
    "\n",
    "\n",
    "data, start, end = parse_data(raw)"
   ]
  },
  {
   "cell_type": "markdown",
   "metadata": {},
   "source": [
    "# Part 1"
   ]
  },
  {
   "cell_type": "code",
   "execution_count": null,
   "metadata": {},
   "outputs": [],
   "source": [
    "# https://en.wikipedia.org/wiki/Dijkstra%27s_algorithm#Algorithm\n",
    "def find_optimal_path_djikstra(array, start, fill_value=99999):\n",
    "    current = start\n",
    "    cost_from_zero = np.full_like(array, fill_value=fill_value, dtype=int)\n",
    "    cost_from_zero[current] = 0\n",
    "\n",
    "    unvisited = {(x, y) for x in range(array.shape[0]) for y in range(array.shape[1])}\n",
    "    while True:\n",
    "        neighbors = set((current[0] + x, current[1] + y) for x, y in [[-1, 0], [1, 0], [0, -1], [0, 1]])\n",
    "        neighbors &= unvisited\n",
    "\n",
    "        ccost = cost_from_zero[current]\n",
    "        for nb in neighbors:\n",
    "            # add cost logic here\n",
    "            if array[nb] - array[current] <= 1:\n",
    "                cost_from_zero[nb] = ccost + 1\n",
    "\n",
    "        unvisited -= {current}\n",
    "        init_cands = {node for node in unvisited if cost_from_zero[node] == fill_value}\n",
    "        if len(unvisited) == len(init_cands):\n",
    "            break\n",
    "\n",
    "        current = sorted(unvisited - init_cands, key=lambda x: cost_from_zero[x])[0]\n",
    "\n",
    "    return cost_from_zero\n",
    "\n",
    "\n",
    "dist_mat = find_optimal_path_djikstra(data, start)\n",
    "result = dist_mat[end]\n",
    "result"
   ]
  },
  {
   "cell_type": "code",
   "execution_count": null,
   "metadata": {},
   "outputs": [],
   "source": [
    "# submit(result, part=\"a\", day=DAY, year=YEAR)"
   ]
  },
  {
   "cell_type": "markdown",
   "metadata": {},
   "source": [
    "# Part 2"
   ]
  },
  {
   "cell_type": "code",
   "execution_count": null,
   "metadata": {},
   "outputs": [],
   "source": [
    "cands = np.argwhere(data == 0).tolist()\n",
    "dist_mat = find_optimal_path_djikstra(-data, end)  # descent logic\n",
    "result = np.min([dist_mat[tuple(cand)] for cand in cands])  # shortest descent\n",
    "result"
   ]
  },
  {
   "cell_type": "code",
   "execution_count": null,
   "metadata": {},
   "outputs": [],
   "source": [
    "# submit(result, part=\"b\", day=DAY, year=YEAR)"
   ]
  }
 ],
 "metadata": {
  "kernelspec": {
   "display_name": "Python 3.10.4 64-bit ('aoc-2022')",
   "language": "python",
   "name": "python3"
  },
  "language_info": {
   "codemirror_mode": {
    "name": "ipython",
    "version": 3
   },
   "file_extension": ".py",
   "mimetype": "text/x-python",
   "name": "python",
   "nbconvert_exporter": "python",
   "pygments_lexer": "ipython3",
   "version": "3.10.4"
  },
  "orig_nbformat": 4,
  "vscode": {
   "interpreter": {
    "hash": "5624460fa9e1cd9da4e6994541d8ff42604db2bd2a1d59618c452d0f7bde50e7"
   }
  }
 },
 "nbformat": 4,
 "nbformat_minor": 2
}
