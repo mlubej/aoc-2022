{
 "cells": [
  {
   "cell_type": "code",
   "execution_count": 1,
   "metadata": {},
   "outputs": [],
   "source": [
    "import copy\n",
    "import re\n",
    "\n",
    "import matplotlib.pyplot as plt\n",
    "import numpy as np\n",
    "import pandas as pd\n",
    "from aocd import get_data, submit\n",
    "\n",
    "DAY = 9\n",
    "YEAR = 2022"
   ]
  },
  {
   "cell_type": "code",
   "execution_count": 2,
   "metadata": {},
   "outputs": [],
   "source": [
    "# use real data\n",
    "raw = get_data(day=DAY, year=YEAR)\n",
    "\n",
    "# print(raw)"
   ]
  },
  {
   "cell_type": "code",
   "execution_count": 3,
   "metadata": {},
   "outputs": [],
   "source": [
    "direction = {\n",
    "    \"R\": [1, 0],\n",
    "    \"L\": [-1, 0],\n",
    "    \"U\": [0, 1],\n",
    "    \"D\": [0, -1],\n",
    "}\n",
    "\n",
    "\n",
    "def parse_data(data):\n",
    "    data = data.split(\"\\n\")\n",
    "    data = [d.split(\" \") for d in data]\n",
    "    data = [(direction[d[0]], int(d[1])) for d in data]\n",
    "    return data\n",
    "\n",
    "\n",
    "data = parse_data(raw)"
   ]
  },
  {
   "cell_type": "markdown",
   "metadata": {},
   "source": [
    "# Part 1"
   ]
  },
  {
   "cell_type": "code",
   "execution_count": 4,
   "metadata": {},
   "outputs": [
    {
     "data": {
      "text/plain": [
       "6026"
      ]
     },
     "execution_count": 4,
     "metadata": {},
     "output_type": "execute_result"
    }
   ],
   "source": [
    "positions = set()\n",
    "tpoz = np.array([0, 0])\n",
    "hpoz = np.array([0, 0])\n",
    "positions.add(tuple(np.array([0, 0])))\n",
    "\n",
    "\n",
    "def move_tail(hpoz, tpoz):\n",
    "    diff = hpoz - tpoz\n",
    "    if np.all(abs(diff) <= 1):\n",
    "        return tpoz\n",
    "\n",
    "    tpoz += np.clip(diff, -1, 1)\n",
    "    return tpoz\n",
    "\n",
    "\n",
    "for move, dist in data:\n",
    "    for s in range(dist):\n",
    "        hpoz += move\n",
    "        tpoz = move_tail(hpoz, tpoz)\n",
    "        positions.add(tuple(tpoz))\n",
    "\n",
    "result = len(positions)\n",
    "result"
   ]
  },
  {
   "cell_type": "code",
   "execution_count": 5,
   "metadata": {},
   "outputs": [],
   "source": [
    "# submit(result, part=\"a\", day=DAY, year=YEAR)"
   ]
  },
  {
   "cell_type": "markdown",
   "metadata": {},
   "source": [
    "# Part 2"
   ]
  },
  {
   "cell_type": "code",
   "execution_count": 6,
   "metadata": {},
   "outputs": [
    {
     "data": {
      "text/plain": [
       "2273"
      ]
     },
     "execution_count": 6,
     "metadata": {},
     "output_type": "execute_result"
    }
   ],
   "source": [
    "positions = set()\n",
    "rope = np.zeros((10, 2))\n",
    "positions.add(tuple(rope[-1]))\n",
    "\n",
    "for move, dist in data:\n",
    "    for s in range(dist):\n",
    "        rope[0] += move  # move head\n",
    "        for idx, knot in enumerate(rope[1:]):\n",
    "            rope[idx + 1] = move_tail(rope[idx], knot)\n",
    "\n",
    "        positions.add(tuple(rope[-1]))\n",
    "\n",
    "result = len(positions)\n",
    "result"
   ]
  },
  {
   "cell_type": "code",
   "execution_count": 7,
   "metadata": {},
   "outputs": [],
   "source": [
    "# submit(result, part=\"b\", day=DAY, year=YEAR)"
   ]
  },
  {
   "cell_type": "markdown",
   "metadata": {},
   "source": [
    "# Animation"
   ]
  },
  {
   "cell_type": "code",
   "execution_count": null,
   "metadata": {},
   "outputs": [],
   "source": [
    "import multiprocessing\n",
    "from concurrent.futures import ProcessPoolExecutor\n",
    "\n",
    "import matplotlib.pyplot as plt\n",
    "from tqdm.auto import tqdm\n",
    "\n",
    "multiprocessing.set_start_method(\"fork\")"
   ]
  },
  {
   "cell_type": "code",
   "execution_count": 8,
   "metadata": {},
   "outputs": [],
   "source": [
    "gif = []\n",
    "rope = np.zeros((10, 2))\n",
    "gif.append(rope.copy().astype(int))\n",
    "\n",
    "for tdx, (move, dist) in enumerate(data):\n",
    "    for s in range(dist):\n",
    "        rope[0] += move  # move head\n",
    "        for idx, knot in enumerate(rope[1:]):\n",
    "            rope[idx + 1] = move_tail(rope[idx], knot)\n",
    "\n",
    "        gif.append(rope.copy().astype(int))"
   ]
  },
  {
   "cell_type": "code",
   "execution_count": 21,
   "metadata": {},
   "outputs": [],
   "source": [
    "minx, miny = np.min(np.concatenate(gif), axis=0)\n",
    "maxx, maxy = np.max(np.concatenate(gif), axis=0)\n",
    "\n",
    "n, m = int(maxx - minx) + 1, int(maxy - miny) + 1\n",
    "\n",
    "images = []\n",
    "mask = np.zeros((n, m, 3))\n",
    "for rope in gif:\n",
    "    current = np.zeros((n, m, 3))\n",
    "    current[rope.T[0] - minx, rope.T[1] - miny] = [255, 255, 255]\n",
    "    mask[rope[[-1]].T[0] - minx, rope[[-1]].T[1] - miny] = [47, 47, 1]\n",
    "\n",
    "    images.append(np.clip((mask + current).copy(), 0, 255).astype(int))"
   ]
  },
  {
   "cell_type": "code",
   "execution_count": 24,
   "metadata": {},
   "outputs": [],
   "source": [
    "def plot_scene(args):\n",
    "    idx, img = args\n",
    "    fig, ax = plt.subplots(figsize=(15, 15))\n",
    "    ax.imshow(img)\n",
    "    ax.axis(\"off\")\n",
    "    plt.savefig(f\"figs/{idx:05}.png\", bbox_inches=\"tight\", transparent=False)\n",
    "    plt.close()"
   ]
  },
  {
   "cell_type": "code",
   "execution_count": 25,
   "metadata": {},
   "outputs": [
    {
     "data": {
      "application/vnd.jupyter.widget-view+json": {
       "model_id": "334e80626d2d4e4b999b26a10aab74b2",
       "version_major": 2,
       "version_minor": 0
      },
      "text/plain": [
       "  0%|          | 0/1133 [00:00<?, ?it/s]"
      ]
     },
     "metadata": {},
     "output_type": "display_data"
    }
   ],
   "source": [
    "!rm -rf './figs/*'\n",
    "\n",
    "step = 10\n",
    "to_plot = list(enumerate(images[::step]))\n",
    "\n",
    "with ProcessPoolExecutor() as executor:\n",
    "    list(tqdm(executor.map(plot_scene, to_plot), total=len(to_plot)))"
   ]
  },
  {
   "cell_type": "code",
   "execution_count": 26,
   "metadata": {},
   "outputs": [
    {
     "name": "stdout",
     "output_type": "stream",
     "text": [
      "ffmpeg version 5.1.2 Copyright (c) 2000-2022 the FFmpeg developers\n",
      "  built with Apple clang version 14.0.0 (clang-1400.0.29.102)\n",
      "  configuration: --prefix=/usr/local/Cellar/ffmpeg/5.1.2 --enable-shared --enable-pthreads --enable-version3 --cc=clang --host-cflags= --host-ldflags= --enable-ffplay --enable-gnutls --enable-gpl --enable-libaom --enable-libbluray --enable-libdav1d --enable-libmp3lame --enable-libopus --enable-librav1e --enable-librist --enable-librubberband --enable-libsnappy --enable-libsrt --enable-libtesseract --enable-libtheora --enable-libvidstab --enable-libvmaf --enable-libvorbis --enable-libvpx --enable-libwebp --enable-libx264 --enable-libx265 --enable-libxml2 --enable-libxvid --enable-lzma --enable-libfontconfig --enable-libfreetype --enable-frei0r --enable-libass --enable-libopencore-amrnb --enable-libopencore-amrwb --enable-libopenjpeg --enable-libspeex --enable-libsoxr --enable-libzmq --enable-libzimg --disable-libjack --disable-indev=jack --enable-videotoolbox\n",
      "  libavutil      57. 28.100 / 57. 28.100\n",
      "  libavcodec     59. 37.100 / 59. 37.100\n",
      "  libavformat    59. 27.100 / 59. 27.100\n",
      "  libavdevice    59.  7.100 / 59.  7.100\n",
      "  libavfilter     8. 44.100 /  8. 44.100\n",
      "  libswscale      6.  7.100 /  6.  7.100\n",
      "  libswresample   4.  7.100 /  4.  7.100\n",
      "  libpostproc    56.  6.100 / 56.  6.100\n",
      "Input #0, image2, from 'figs/%05d.png':\n",
      "  Duration: 00:01:15.53, start: 0.000000, bitrate: N/A\n",
      "  Stream #0:0: Video: png, rgba(pc), 750x1175 [SAR 3937:3937 DAR 30:47], 15 fps, 15 tbr, 15 tbn\n",
      "Stream mapping:\n",
      "  Stream #0:0 -> #0:0 (png (native) -> gif (native))\n",
      "Press [q] to stop, [?] for help\n",
      "\u001b[1;32m[Parsed_palettegen_1 @ 0x7f9745c15bc0] \u001b[0m3(+1) colors generated out of 3 colors; ratio=1.000000\n",
      "Output #0, gif, to 'out.gif':\n",
      "  Metadata:\n",
      "    encoder         : Lavf59.27.100\n",
      "  Stream #0:0: Video: gif, pal8(pc, gbr/unknown/unknown, progressive), 750x1175 [SAR 1:1 DAR 30:47], q=2-31, 200 kb/s, 15 fps, 100 tbn\n",
      "    Metadata:\n",
      "      encoder         : Lavc59.37.100 gif\n",
      "frame= 1133 fps=228 q=-0.0 Lsize=     172kB time=00:01:15.48 bitrate=  18.7kbits/s speed=15.2x     \n",
      "video:172kB audio:0kB subtitle:0kB other streams:0kB global headers:0kB muxing overhead: 0.011366%\n"
     ]
    }
   ],
   "source": [
    "!ffmpeg -f image2 -framerate 15 -i figs/%05d.png -vf \"split[s0][s1];[s0]palettegen=stats_mode=diff[p];[s1][p]paletteuse=dither=bayer:bayer_scale=5:diff_mode=rectangle\" out.gif -y"
   ]
  },
  {
   "cell_type": "code",
   "execution_count": null,
   "metadata": {},
   "outputs": [],
   "source": []
  }
 ],
 "metadata": {
  "kernelspec": {
   "display_name": "Python 3.10.4 64-bit ('aoc-2022')",
   "language": "python",
   "name": "python3"
  },
  "language_info": {
   "codemirror_mode": {
    "name": "ipython",
    "version": 3
   },
   "file_extension": ".py",
   "mimetype": "text/x-python",
   "name": "python",
   "nbconvert_exporter": "python",
   "pygments_lexer": "ipython3",
   "version": "3.10.4"
  },
  "orig_nbformat": 4,
  "vscode": {
   "interpreter": {
    "hash": "5624460fa9e1cd9da4e6994541d8ff42604db2bd2a1d59618c452d0f7bde50e7"
   }
  }
 },
 "nbformat": 4,
 "nbformat_minor": 2
}
