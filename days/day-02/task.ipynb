{
 "cells": [
  {
   "cell_type": "code",
   "execution_count": 1,
   "metadata": {},
   "outputs": [],
   "source": [
    "import re\n",
    "\n",
    "import matplotlib.pyplot as plt\n",
    "import numpy as np\n",
    "import pandas as pd\n",
    "from aocd import get_data, submit\n",
    "\n",
    "DAY = 2\n",
    "YEAR = 2022\n",
    "\n",
    "data = get_data(day=DAY, year=YEAR)\n",
    "# print(data)"
   ]
  },
  {
   "cell_type": "code",
   "execution_count": 2,
   "metadata": {},
   "outputs": [],
   "source": [
    "transform = {\"X\": 0, \"Y\": 1, \"Z\": 2, \"A\": 0, \"B\": 1, \"C\": 2}  # R  # P  # S  # R  # P  # S\n",
    "\n",
    "\n",
    "def process(data):\n",
    "    data = data.split(\"\\n\")\n",
    "    data = [[transform[x] for x in d.split(\" \")] for d in data]\n",
    "\n",
    "    return data\n",
    "\n",
    "\n",
    "data = process(data)"
   ]
  },
  {
   "cell_type": "markdown",
   "metadata": {},
   "source": [
    "# Part 1"
   ]
  },
  {
   "cell_type": "code",
   "execution_count": 4,
   "metadata": {},
   "outputs": [
    {
     "data": {
      "text/plain": [
       "10310"
      ]
     },
     "execution_count": 4,
     "metadata": {},
     "output_type": "execute_result"
    }
   ],
   "source": [
    "shape_val = {\n",
    "    0: 1,\n",
    "    1: 2,\n",
    "    2: 3,\n",
    "}\n",
    "\n",
    "\n",
    "def calc_score(theirs, ours, convert=True):\n",
    "    score = shape_val[ours]\n",
    "\n",
    "    if theirs == ours:  # draw\n",
    "        score += 3\n",
    "    elif theirs == (ours - 1) % 3:  # the current is always beaten by the next one (P covers R)\n",
    "        score += 6\n",
    "    else:\n",
    "        pass\n",
    "\n",
    "    return score\n",
    "\n",
    "\n",
    "result = np.sum([calc_score(*d) for d in data])\n",
    "result\n",
    "# calc_score('A','Y')"
   ]
  },
  {
   "cell_type": "code",
   "execution_count": 27,
   "metadata": {},
   "outputs": [
    {
     "name": "stdout",
     "output_type": "stream",
     "text": [
      "That's the right answer!  You are one gold star closer to collecting enough star fruit. [Continue to Part Two]\n"
     ]
    },
    {
     "data": {
      "text/plain": [
       "<Response [200]>"
      ]
     },
     "execution_count": 27,
     "metadata": {},
     "output_type": "execute_result"
    }
   ],
   "source": [
    "submit(result, part=\"a\", day=DAY, year=YEAR)"
   ]
  },
  {
   "cell_type": "markdown",
   "metadata": {},
   "source": [
    "# Part 2"
   ]
  },
  {
   "cell_type": "code",
   "execution_count": 5,
   "metadata": {},
   "outputs": [
    {
     "data": {
      "text/plain": [
       "14859"
      ]
     },
     "execution_count": 5,
     "metadata": {},
     "output_type": "execute_result"
    }
   ],
   "source": [
    "def find_ours(theirs, outcome):\n",
    "    if outcome == 1:  # draw\n",
    "        ours = theirs\n",
    "    elif outcome == 0:  # we lose\n",
    "        ours = (theirs - 1) % 3\n",
    "    else:  # we win\n",
    "        ours = (theirs + 1) % 3\n",
    "\n",
    "    return ours\n",
    "\n",
    "\n",
    "def calc_score_v2(theirs, outcome):\n",
    "    ours = find_ours(theirs, outcome)\n",
    "    return calc_score(theirs, ours, convert=False)\n",
    "\n",
    "\n",
    "# calc_score_v2('A','Y')\n",
    "result = np.sum([calc_score_v2(*d) for d in data])\n",
    "result"
   ]
  },
  {
   "cell_type": "code",
   "execution_count": 45,
   "metadata": {},
   "outputs": [
    {
     "name": "stdout",
     "output_type": "stream",
     "text": [
      "That's the right answer!  You are one gold star closer to collecting enough star fruit.You have completed Day 2! You can [Shareon\n",
      "  Twitter\n",
      "Mastodon] this victory or [Return to Your Advent Calendar].\n"
     ]
    },
    {
     "data": {
      "text/plain": [
       "<Response [200]>"
      ]
     },
     "execution_count": 45,
     "metadata": {},
     "output_type": "execute_result"
    }
   ],
   "source": [
    "submit(result, part=\"b\", day=DAY, year=YEAR)"
   ]
  }
 ],
 "metadata": {
  "kernelspec": {
   "display_name": "Python 3.10.4 64-bit ('aoc-2022')",
   "language": "python",
   "name": "python3"
  },
  "language_info": {
   "codemirror_mode": {
    "name": "ipython",
    "version": 3
   },
   "file_extension": ".py",
   "mimetype": "text/x-python",
   "name": "python",
   "nbconvert_exporter": "python",
   "pygments_lexer": "ipython3",
   "version": "3.10.4"
  },
  "orig_nbformat": 4,
  "vscode": {
   "interpreter": {
    "hash": "5624460fa9e1cd9da4e6994541d8ff42604db2bd2a1d59618c452d0f7bde50e7"
   }
  }
 },
 "nbformat": 4,
 "nbformat_minor": 2
}
