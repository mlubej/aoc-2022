{
 "cells": [
  {
   "cell_type": "code",
   "execution_count": null,
   "metadata": {},
   "outputs": [],
   "source": [
    "import ast\n",
    "import copy\n",
    "import re\n",
    "\n",
    "import matplotlib.pyplot as plt\n",
    "import numpy as np\n",
    "import pandas as pd\n",
    "from aocd import get_data, submit\n",
    "\n",
    "DAY = 11\n",
    "YEAR = 2022"
   ]
  },
  {
   "cell_type": "code",
   "execution_count": null,
   "metadata": {},
   "outputs": [],
   "source": [
    "# use real data\n",
    "raw = get_data(day=DAY, year=YEAR)\n",
    "\n",
    "# print(raw)"
   ]
  },
  {
   "cell_type": "code",
   "execution_count": null,
   "metadata": {},
   "outputs": [],
   "source": [
    "class Monkey:\n",
    "    def __init__(self, line):\n",
    "        split = line.split(\"\\n\")\n",
    "        self.num = int(re.search(\"Monkey (\\d+)\", line).group(1))\n",
    "        self.items = np.array(re.findall(\"\\d+\", split[1]), dtype=int).tolist()\n",
    "        self.op = lambda old: ast.literal_eval(re.search(\"= (.*)$\", split[2]).group(1))\n",
    "        self.test = int(re.search(\"(\\d+)\", split[3]).group(1))\n",
    "        self.direction = np.array(\n",
    "            [re.search(\"(\\d+)\", split[4]).group(1), re.search(\"(\\d+)\", split[5]).group(1)], dtype=int\n",
    "        ).tolist()\n",
    "        self.num_counts = 0\n",
    "\n",
    "\n",
    "def parse_data(data):\n",
    "    data = data.split(\"\\n\\n\")\n",
    "    monkeys = {}\n",
    "    for line in data:\n",
    "        monkey = Monkey(line)\n",
    "        monkeys[monkey.num] = monkey\n",
    "    return monkeys\n",
    "\n",
    "\n",
    "data = parse_data(raw)"
   ]
  },
  {
   "cell_type": "markdown",
   "metadata": {},
   "source": [
    "# Part 1"
   ]
  },
  {
   "cell_type": "code",
   "execution_count": null,
   "metadata": {},
   "outputs": [],
   "source": [
    "def play_round(before):\n",
    "    after = copy.deepcopy(before)\n",
    "    for num, monkey in before.items():\n",
    "        while len(after[num].items) > 0:\n",
    "            item = after[num].items.pop(0)\n",
    "            worry_level = monkey.op(item) // 3\n",
    "            after[num].num_counts += 1\n",
    "            if worry_level % monkey.test == 0:\n",
    "                after[monkey.direction[0]].items.append(worry_level)\n",
    "            else:\n",
    "                after[monkey.direction[1]].items.append(worry_level)\n",
    "    return after\n",
    "\n",
    "\n",
    "current = copy.deepcopy(data)\n",
    "for i in range(20):\n",
    "    current = play_round(current)"
   ]
  },
  {
   "cell_type": "code",
   "execution_count": null,
   "metadata": {},
   "outputs": [],
   "source": [
    "result = np.prod(sorted([mv.num_counts for m, mv in current.items()])[-2:])\n",
    "result"
   ]
  },
  {
   "cell_type": "code",
   "execution_count": null,
   "metadata": {},
   "outputs": [],
   "source": [
    "# submit(result, part=\"a\", day=DAY, year=YEAR)"
   ]
  },
  {
   "cell_type": "markdown",
   "metadata": {},
   "source": [
    "# Part 2"
   ]
  },
  {
   "cell_type": "code",
   "execution_count": null,
   "metadata": {},
   "outputs": [],
   "source": [
    "prod_of_all_test = np.prod([m.test for m in data.values()])\n",
    "\n",
    "\n",
    "def play_round(before):\n",
    "    after = copy.deepcopy(before)\n",
    "    for num, monkey in before.items():\n",
    "        while len(after[num].items) > 0:\n",
    "            item = after[num].items.pop(0)\n",
    "            worry_level = monkey.op(item) % prod_of_all_test\n",
    "            after[num].num_counts += 1\n",
    "            if worry_level % monkey.test == 0:\n",
    "                after[monkey.direction[0]].items.append(worry_level)\n",
    "            else:\n",
    "                after[monkey.direction[1]].items.append(worry_level)\n",
    "    return after\n",
    "\n",
    "\n",
    "current = copy.deepcopy(data)\n",
    "for i in range(10000):\n",
    "    current = play_round(current)"
   ]
  },
  {
   "cell_type": "code",
   "execution_count": null,
   "metadata": {},
   "outputs": [],
   "source": [
    "result = np.prod(sorted([mv.num_counts for m, mv in current.items()])[-2:])\n",
    "result"
   ]
  },
  {
   "cell_type": "code",
   "execution_count": null,
   "metadata": {},
   "outputs": [],
   "source": [
    "# submit(result, part=\"b\", day=DAY, year=YEAR)"
   ]
  }
 ],
 "metadata": {
  "kernelspec": {
   "display_name": "Python 3.10.4 64-bit ('aoc-2022')",
   "language": "python",
   "name": "python3"
  },
  "language_info": {
   "codemirror_mode": {
    "name": "ipython",
    "version": 3
   },
   "file_extension": ".py",
   "mimetype": "text/x-python",
   "name": "python",
   "nbconvert_exporter": "python",
   "pygments_lexer": "ipython3",
   "version": "3.10.4 (main, Nov 30 2022, 16:56:30) [Clang 14.0.0 (clang-1400.0.29.202)]"
  },
  "orig_nbformat": 4,
  "vscode": {
   "interpreter": {
    "hash": "5624460fa9e1cd9da4e6994541d8ff42604db2bd2a1d59618c452d0f7bde50e7"
   }
  }
 },
 "nbformat": 4,
 "nbformat_minor": 2
}
