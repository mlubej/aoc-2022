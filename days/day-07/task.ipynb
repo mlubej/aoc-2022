{
 "cells": [
  {
   "cell_type": "code",
   "execution_count": null,
   "metadata": {},
   "outputs": [],
   "source": [
    "import re\n",
    "\n",
    "import numpy as np\n",
    "from aocd import get_data, submit\n",
    "\n",
    "DAY = 7\n",
    "YEAR = 2022"
   ]
  },
  {
   "cell_type": "code",
   "execution_count": null,
   "metadata": {},
   "outputs": [],
   "source": [
    "raw = get_data(day=DAY, year=YEAR)\n",
    "\n",
    "# print(raw)"
   ]
  },
  {
   "cell_type": "code",
   "execution_count": null,
   "metadata": {},
   "outputs": [],
   "source": [
    "def parse_data(data):\n",
    "    data = data.split(\"$ \")  # split by command\n",
    "    data = [[x for x in d.split(\"\\n\") if x != \"\"] for d in data if d != \"\"]\n",
    "    return data\n",
    "\n",
    "\n",
    "data = parse_data(raw)"
   ]
  },
  {
   "cell_type": "markdown",
   "metadata": {},
   "source": [
    "# Part 1"
   ]
  },
  {
   "cell_type": "code",
   "execution_count": null,
   "metadata": {},
   "outputs": [],
   "source": [
    "FILE_REGEX = re.compile(\"(^\\d+)\\s(.+)$\")\n",
    "DIR_REGEX = re.compile(\"^dir\\s(.+)$\")\n",
    "CMD_REGEX = re.compile(\"^\\$\\s(cd|ls)\\s*(.*)\")\n",
    "\n",
    "wd = [\"root\"]\n",
    "dirs = {\"root\": 0}\n",
    "\n",
    "for line in data[1:]:\n",
    "    cmd, *content = line\n",
    "    if cmd.startswith(\"cd\"):\n",
    "        name = re.search(\"cd\\s(.*)\", cmd).group(1)\n",
    "        wd.pop() if name == \"..\" else wd.append(name)\n",
    "        continue\n",
    "\n",
    "    for c in content:\n",
    "        if c.startswith(\"dir\"):\n",
    "            name = DIR_REGEX.search(c).group(1)\n",
    "            dirs[\"/\".join(wd + [name])] = 0\n",
    "            continue\n",
    "\n",
    "        size, name = FILE_REGEX.search(c).groups()\n",
    "        for i in range(1, len(wd) + 1):\n",
    "            dirs[\"/\".join(wd[:i])] += int(size)\n",
    "\n",
    "result = 0\n",
    "for name, size in dirs.items():\n",
    "    if size <= 100000:\n",
    "        result += size\n",
    "\n",
    "result"
   ]
  },
  {
   "cell_type": "code",
   "execution_count": null,
   "metadata": {},
   "outputs": [],
   "source": [
    "# submit(result, part=\"a\", day=DAY, year=YEAR)"
   ]
  },
  {
   "cell_type": "markdown",
   "metadata": {},
   "source": [
    "# Part 2"
   ]
  },
  {
   "cell_type": "code",
   "execution_count": null,
   "metadata": {},
   "outputs": [],
   "source": [
    "total = 70000000\n",
    "required = 30000000\n",
    "used = dirs[\"root\"]\n",
    "unused = total - used\n",
    "to_free = required - unused\n",
    "\n",
    "dirs = dict(sorted(dirs.items(), key=lambda item: item[1]))\n",
    "values = np.array(list(dirs.values()))\n",
    "result = values[values >= to_free][0]\n",
    "result"
   ]
  },
  {
   "cell_type": "code",
   "execution_count": null,
   "metadata": {},
   "outputs": [],
   "source": [
    "# submit(result, part=\"b\", day=DAY, year=YEAR)"
   ]
  }
 ],
 "metadata": {
  "kernelspec": {
   "display_name": "Python 3.10.4 64-bit ('aoc-2022')",
   "language": "python",
   "name": "python3"
  },
  "language_info": {
   "codemirror_mode": {
    "name": "ipython",
    "version": 3
   },
   "file_extension": ".py",
   "mimetype": "text/x-python",
   "name": "python",
   "nbconvert_exporter": "python",
   "pygments_lexer": "ipython3",
   "version": "3.10.4"
  },
  "orig_nbformat": 4,
  "vscode": {
   "interpreter": {
    "hash": "5624460fa9e1cd9da4e6994541d8ff42604db2bd2a1d59618c452d0f7bde50e7"
   }
  }
 },
 "nbformat": 4,
 "nbformat_minor": 2
}
