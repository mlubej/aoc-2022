{
 "cells": [
  {
   "cell_type": "code",
   "execution_count": 1,
   "metadata": {},
   "outputs": [],
   "source": [
    "import re\n",
    "\n",
    "import numpy as np\n",
    "from aocd import get_data, submit\n",
    "\n",
    "DAY = 7\n",
    "YEAR = 2022"
   ]
  },
  {
   "cell_type": "code",
   "execution_count": 2,
   "metadata": {},
   "outputs": [],
   "source": [
    "raw = get_data(day=DAY, year=YEAR)\n",
    "\n",
    "# print(raw)"
   ]
  },
  {
   "cell_type": "code",
   "execution_count": 3,
   "metadata": {},
   "outputs": [],
   "source": [
    "def parse_data(data):\n",
    "    data = data.split(\"$ \")\n",
    "    data = [[x for x in d.split(\"\\n\") if x != \"\"] for d in data if d != \"\"]\n",
    "    return data\n",
    "\n",
    "\n",
    "data = parse_data(raw)"
   ]
  },
  {
   "cell_type": "code",
   "execution_count": 4,
   "metadata": {},
   "outputs": [],
   "source": [
    "class Node:\n",
    "    def __init__(self, name, size=None, content=None, parent=None, depth=0):\n",
    "        self.name = name\n",
    "        self.size = size\n",
    "        self.content = content\n",
    "        self.parent = parent\n",
    "        self.depth = depth\n",
    "\n",
    "    # def __repr__(self):\n",
    "    #     out = f'{\" \"*self.depth} - {self.name} ({\"file\" if self.size is not None else \"dir\"}: {self.disk_size()})\\n'\n",
    "    #     if self.content is not None:\n",
    "    #         for name, node in self.content.items():\n",
    "    #             out += f'{\" \"*(node.depth)}{node}'\n",
    "    #         return out\n",
    "    #     return out\n",
    "\n",
    "    def add_content(self, node):\n",
    "        if self.content is not None and isinstance(self.content, dict):\n",
    "            self.content[node.name] = node\n",
    "\n",
    "    def disk_size(self):\n",
    "        return calc_size(self)\n",
    "\n",
    "\n",
    "def calc_size(node):\n",
    "    if node.size is not None:\n",
    "        return node.size\n",
    "    else:\n",
    "        return sum([calc_size(child) for child in node.content.values()])"
   ]
  },
  {
   "cell_type": "code",
   "execution_count": 5,
   "metadata": {},
   "outputs": [],
   "source": [
    "FILE_REGEX = re.compile(\"(^\\d+)\\s(.+)$\")\n",
    "DIR_REGEX = re.compile(\"^dir\\s(.+)$\")\n",
    "CMD_REGEX = re.compile(\"^\\$\\s(cd|ls)\\s*(.*)\")\n",
    "\n",
    "current = None\n",
    "root = Node(name=\"/\", content={})\n",
    "\n",
    "# create tree\n",
    "depth = 0\n",
    "for line in data[1:]:\n",
    "    cmd, *content = line\n",
    "    current = root if current is None else current\n",
    "    if cmd.startswith(\"cd\"):\n",
    "        name = re.search(\"cd\\s(.*)\", cmd).group(1)\n",
    "        if name == \"..\":\n",
    "            current = current.parent\n",
    "        else:\n",
    "            current = current.content[name]\n",
    "    else:\n",
    "        for c in content:\n",
    "            file_re = FILE_REGEX.search(c)\n",
    "            dir_re = DIR_REGEX.search(c)\n",
    "            if file_re is not None:\n",
    "                size, name = file_re.group(1), file_re.group(2)\n",
    "                current.content[name] = Node(name=name, size=int(size), parent=current, depth=current.depth + 1)\n",
    "            else:\n",
    "                name = dir_re.group(1)\n",
    "                current.add_content(Node(name=name, content={}, parent=current, depth=current.depth + 1))"
   ]
  },
  {
   "cell_type": "markdown",
   "metadata": {},
   "source": [
    "# Part 1"
   ]
  },
  {
   "cell_type": "code",
   "execution_count": 6,
   "metadata": {},
   "outputs": [
    {
     "data": {
      "text/plain": [
       "1490523"
      ]
     },
     "execution_count": 6,
     "metadata": {},
     "output_type": "execute_result"
    }
   ],
   "source": [
    "def collect(node, candidates=[]):\n",
    "    if node.content is None:  # skip\n",
    "        return candidates\n",
    "\n",
    "    if node.disk_size() <= 1e5:\n",
    "        candidates.append(node.disk_size())\n",
    "\n",
    "    for child in node.content.values():\n",
    "        collect(child, candidates)\n",
    "\n",
    "    return candidates\n",
    "\n",
    "\n",
    "result = sum(collect(root))\n",
    "result"
   ]
  },
  {
   "cell_type": "code",
   "execution_count": 7,
   "metadata": {},
   "outputs": [],
   "source": [
    "# submit(result, part=\"a\", day=DAY, year=YEAR)"
   ]
  },
  {
   "cell_type": "markdown",
   "metadata": {},
   "source": [
    "# Part 2"
   ]
  },
  {
   "cell_type": "code",
   "execution_count": 8,
   "metadata": {},
   "outputs": [
    {
     "data": {
      "text/plain": [
       "12390492"
      ]
     },
     "execution_count": 8,
     "metadata": {},
     "output_type": "execute_result"
    }
   ],
   "source": [
    "total = 70000000\n",
    "required = 30000000\n",
    "used = root.disk_size()\n",
    "unused = total - used\n",
    "to_free = required - unused\n",
    "\n",
    "\n",
    "def collect(node, candidates=[]):\n",
    "    if node.content is None:  # skip\n",
    "        return candidates\n",
    "\n",
    "    candidates.append([node, node.disk_size()])\n",
    "\n",
    "    for child in node.content.values():\n",
    "        collect(child, candidates)\n",
    "\n",
    "    return candidates\n",
    "\n",
    "\n",
    "candidates = collect(root)\n",
    "candidates = np.array(sorted(candidates, key=lambda x: x[-1]))  # sort by size\n",
    "result = candidates[candidates[:, 1] >= to_free][0][1]  # first one above threshold\n",
    "result"
   ]
  },
  {
   "cell_type": "code",
   "execution_count": 9,
   "metadata": {},
   "outputs": [],
   "source": [
    "# submit(result, part=\"b\", day=DAY, year=YEAR)"
   ]
  }
 ],
 "metadata": {
  "kernelspec": {
   "display_name": "Python 3.10.4 64-bit ('aoc-2022')",
   "language": "python",
   "name": "python3"
  },
  "language_info": {
   "codemirror_mode": {
    "name": "ipython",
    "version": 3
   },
   "file_extension": ".py",
   "mimetype": "text/x-python",
   "name": "python",
   "nbconvert_exporter": "python",
   "pygments_lexer": "ipython3",
   "version": "3.10.4"
  },
  "orig_nbformat": 4,
  "vscode": {
   "interpreter": {
    "hash": "5624460fa9e1cd9da4e6994541d8ff42604db2bd2a1d59618c452d0f7bde50e7"
   }
  }
 },
 "nbformat": 4,
 "nbformat_minor": 2
}
