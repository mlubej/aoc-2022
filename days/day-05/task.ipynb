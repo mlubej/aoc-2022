{
 "cells": [
  {
   "cell_type": "code",
   "execution_count": 1,
   "metadata": {},
   "outputs": [],
   "source": [
    "import re\n",
    "\n",
    "import numpy as np\n",
    "from aocd import get_data, submit\n",
    "\n",
    "DAY = 5\n",
    "YEAR = 2022\n",
    "\n",
    "raw = get_data(day=DAY, year=YEAR)\n",
    "# print(raw)"
   ]
  },
  {
   "cell_type": "code",
   "execution_count": 2,
   "metadata": {},
   "outputs": [],
   "source": [
    "def parse_data(raw):\n",
    "    stacks, moves = raw.split(\"\\n\\n\")\n",
    "    stacks = stacks.split(\"\\n\")\n",
    "    stacks = [list(s[1::4]) for s in stacks[:-1]]  # extract symbols at fixed positions\n",
    "    stacks = np.transpose(stacks[::-1])  # flip and transpose\n",
    "    stacks = [s[s != \" \"].tolist() for s in stacks]  # filter empty\n",
    "\n",
    "    moves = [np.array(re.findall(\"\\d+\", mv), dtype=int).tolist() for mv in moves.split(\"\\n\")]\n",
    "    return stacks, moves\n",
    "\n",
    "\n",
    "stacks, inst = parse_data(raw)"
   ]
  },
  {
   "cell_type": "markdown",
   "metadata": {},
   "source": [
    "# Part 1"
   ]
  },
  {
   "cell_type": "code",
   "execution_count": 3,
   "metadata": {},
   "outputs": [],
   "source": [
    "def move(stacks, mv, flip=True):\n",
    "    out = stacks.copy()\n",
    "    size, fr, to = mv\n",
    "    to -= 1\n",
    "    fr -= 1\n",
    "    s1 = stacks[fr][:-size]\n",
    "    lift = stacks[fr][-size:][::-1] if flip else stacks[fr][-size:]\n",
    "    s2 = stacks[to] + lift\n",
    "    out[fr] = s1  # assign new\n",
    "    out[to] = s2\n",
    "    return out\n",
    "\n",
    "\n",
    "data = stacks.copy()\n",
    "for mv in inst:\n",
    "    data = move(data, mv)"
   ]
  },
  {
   "cell_type": "code",
   "execution_count": 4,
   "metadata": {},
   "outputs": [
    {
     "data": {
      "text/plain": [
       "'SPFMVDTZT'"
      ]
     },
     "execution_count": 4,
     "metadata": {},
     "output_type": "execute_result"
    }
   ],
   "source": [
    "result = \"\".join([s[-1] for s in data])\n",
    "result"
   ]
  },
  {
   "cell_type": "code",
   "execution_count": 218,
   "metadata": {},
   "outputs": [],
   "source": [
    "# submit(result, part=\"a\", day=DAY, year=YEAR)"
   ]
  },
  {
   "cell_type": "markdown",
   "metadata": {},
   "source": [
    "# Part 2"
   ]
  },
  {
   "cell_type": "code",
   "execution_count": 5,
   "metadata": {},
   "outputs": [],
   "source": [
    "data = stacks.copy()\n",
    "for mv in inst:\n",
    "    data = move(data, mv, flip=False)  # CrateMover 9001"
   ]
  },
  {
   "cell_type": "code",
   "execution_count": 6,
   "metadata": {},
   "outputs": [
    {
     "data": {
      "text/plain": [
       "'ZFSJBPRFP'"
      ]
     },
     "execution_count": 6,
     "metadata": {},
     "output_type": "execute_result"
    }
   ],
   "source": [
    "result = \"\".join([s[-1] for s in data])\n",
    "result"
   ]
  },
  {
   "cell_type": "code",
   "execution_count": 15,
   "metadata": {},
   "outputs": [],
   "source": [
    "# submit(result, part=\"b\", day=DAY, year=YEAR)"
   ]
  }
 ],
 "metadata": {
  "kernelspec": {
   "display_name": "Python 3.10.4 64-bit ('aoc-2022')",
   "language": "python",
   "name": "python3"
  },
  "language_info": {
   "codemirror_mode": {
    "name": "ipython",
    "version": 3
   },
   "file_extension": ".py",
   "mimetype": "text/x-python",
   "name": "python",
   "nbconvert_exporter": "python",
   "pygments_lexer": "ipython3",
   "version": "3.10.4"
  },
  "orig_nbformat": 4,
  "vscode": {
   "interpreter": {
    "hash": "5624460fa9e1cd9da4e6994541d8ff42604db2bd2a1d59618c452d0f7bde50e7"
   }
  }
 },
 "nbformat": 4,
 "nbformat_minor": 2
}
